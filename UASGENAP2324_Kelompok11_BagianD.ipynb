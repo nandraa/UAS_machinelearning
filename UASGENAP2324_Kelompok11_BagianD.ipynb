{
 "cells": [
  {
   "cell_type": "markdown",
   "metadata": {},
   "source": [
    "## **Tugas Besar Pengganti Ujian Akhir Semester (UAS), Semester Genap 2023/2024**\n",
    "### Deadline: Jumat, 14 Juni 2024, Jam 15.00\n",
    "##### Dosen:  DKT,ITQ"
   ]
  },
  {
   "cell_type": "markdown",
   "metadata": {},
   "source": [
    "---\n",
    "***'Dengan ini kami menyatakan bahwa tugas ini dibuat sebenar-benarnya hasil kerjasama kami dalam kelompok. Kami menjunjung tinggi aspek kejujuran sehingga kami dapat pastikan hasil ini bukan berasal dari meniru/mencontek/meminta hasil/berdiskusi dengan kelompok lain, baik dalam satu kelas yang sama maupun berbeda'***\n",
    "\n",
    "---\n",
    "Bandung, .... Januari 2024\n",
    "\n",
    "> Kelompok: 11\n",
    ">\n",
    "> Anggota:\n",
    "> 1. Ananda Rafi Amanullah, 1102213017, 25%\n",
    "> 2. Daffa Sahrul Rahman, 1102210224, 25%\n",
    "> 3. Ghanendra Amru Kumara, 1102213207, 25%\n",
    "> 4. Muhammad Ibrahim, 1102213157, 25%\n",
    ">\n",
    "\n",
    "Total 100%"
   ]
  },
  {
   "cell_type": "markdown",
   "metadata": {},
   "source": [
    "### **Penjelasan (harus dibaca dan dimengerti)**:\n",
    "* Tugas besar harus dikerjakan menggunakan bahasa pemrograman `Python` dan *library* `Scikit-Learn`. \n",
    "* Pada setiap bagian jawaban, anda bisa menambahkan cell `code` untuk kode maupun cell `Markdown` untuk penjelasan, sesuai dengan kebutuhan masing-masing.\n",
    "* Dikumpulkan sesuai dengan tenggat waktu, setiap keterlambatan akan diberikan hukuman pengurangan 10 poin setiap kelipatan 15 menit.\n",
    "* Dikerjakan dengan `Jupyter Lab` atau `Jupyter Notebook`, dan dikumpulkan dalam bentuk file dengan extension `.ipynb` yang digunakan pada `Jupyter Notebook/Jupyter Lab` (tidak boleh dalam format lain)"
   ]
  },
  {
   "cell_type": "markdown",
   "metadata": {},
   "source": [
    "## 1. Support Vektor Machine (SVM) Regresi (20%)"
   ]
  },
  {
   "cell_type": "markdown",
   "metadata": {},
   "source": [
    "Generate data dari dengan mengganti NoKelompok dengan nomer kelompok masing-masing dan Jumlah dataset dengan perkalian digit terakhir dari nim semua anggota dikalikan 10. Contoh Tim 1 dengan angka terakhir dari NIM 110101012, 110101014, 110101016 adalah 2, 4, 6 sehingga 2x4x6x10 = 480 untuk variable Jumlah. \n",
    "\n",
    "#### Code dataset kelompok ganjil\n",
    "import numpy as np\\\n",
    "import matplotlib.pyplot as plt\\\n",
    "np.random.seed(42)\\\n",
    "NoKelompok = 1 # Kelompok 1\\\n",
    "Jumlah = 480 #kalikan semua nim terakhir\\\n",
    "X = 2 * np.random.rand(Jumlah, 1)\\\n",
    "y = (4 +  np.power(X,int(NoKelompok/2)+1) + np.random.randn(Jumlah, 1)).ravel()\\\n",
    "\n",
    "#### Code dataset kelompok genap\n",
    "import numpy as np\\\n",
    "import matplotlib.pyplot as plt\\\n",
    "np.random.seed(42)\\\n",
    "NoKelompok = 4 # Kelompok 1\\\n",
    "Jumlah = 480 #kalikan semua nim terakhir\\\n",
    "X = 2 * np.random.rand(Jumlah, 1)\\\n",
    "y = (4 -  np.power(X,int(NoKelompok/2)+1) + np.random.randn(Jumlah, 1)).ravel()"
   ]
  },
  {
   "cell_type": "markdown",
   "metadata": {},
   "source": [
    "Petunjuk pengerjaan:\n",
    "1. Gunakan dataset tersebut untuk memprediksi nilai keluaran y dengan menggunakan SVM regresi. \n",
    "2. Sesuaikan model SVM Regresi diatas apakan linier atau non linier dan tuning nilai epsilon untuk menentukan lebar jalur SVM untuk menyesuaikan keluaran regresi yang dihasilkan.\n",
    "3. Gunakan parameter r2, RMS, MSE untuk menentukan model terbaik."
   ]
  },
  {
   "cell_type": "markdown",
   "metadata": {},
   "source": [
    "### A. Generate  dataset sesuai ketentuan diatas."
   ]
  },
  {
   "cell_type": "markdown",
   "metadata": {},
   "source": [
    "1. Generate dataset"
   ]
  },
  {
   "cell_type": "code",
   "execution_count": 1,
   "metadata": {},
   "outputs": [],
   "source": [
    "import numpy as np\n",
    "import matplotlib.pyplot as plt\n",
    "\n",
    "#ini untuk kelompok ganjil untuk genap ganti sesuai ketentuan diatas\n",
    "np.random.seed(42)\n",
    "NoKelompok = 11 # Ganti dengan nomer kelompok 11\n",
    "Jumlah = 13720 # Ganti dengan perkalian semua nim terakhir 4 x 7 x 7 x 7 x 10 = 13720\n",
    "X = 2 * np.random.rand(Jumlah, 1)\n",
    "y = (4 +  np.power(X,int(NoKelompok/2)+1) + np.random.randn(Jumlah, 1)).ravel()\n"
   ]
  },
  {
   "cell_type": "markdown",
   "metadata": {},
   "source": [
    "2. ploting data X dan y dengan menggunakan style scatter dan berikan keterangan label x dan y diplotingnya."
   ]
  },
  {
   "cell_type": "code",
   "execution_count": 8,
   "metadata": {},
   "outputs": [],
   "source": [
    "import matplotlib.pyplot\n",
    "from sklearn.svm import LinearSVR\n",
    "\n",
    "#lengkapi dengan ketentuan soal diatas"
   ]
  },
  {
   "cell_type": "markdown",
   "metadata": {},
   "source": [
    "### B. Training dengan model SVM Regresi"
   ]
  },
  {
   "cell_type": "markdown",
   "metadata": {},
   "source": [
    "1. Model SVM Regresi linier "
   ]
  },
  {
   "cell_type": "code",
   "execution_count": null,
   "metadata": {},
   "outputs": [],
   "source": []
  },
  {
   "cell_type": "markdown",
   "metadata": {},
   "source": [
    "2. Model SVM Regresi Polynomial "
   ]
  },
  {
   "cell_type": "code",
   "execution_count": 74,
   "metadata": {},
   "outputs": [],
   "source": [
    "from sklearn.svm import SVR\n",
    "#Regresi SVM non Linier\n",
    "#Import library metode machine learning.\n",
    "\n",
    "\n",
    "#split data training dan testing\n",
    "\n",
    "#Gunakan data trainig untuk fitting dan data testing untuk ukuran kinerja.\n",
    "#Training dengan menggunakan metode Regresi SVM. \n",
    "#Lakukan berulang kali process fitting dengan mengganti hyperparameter kernel poly, orde dan epsilon (atau gunakan gridSearchCV)\n",
    "#kemudian mengukur kinerjanya sehingga mendapatkan model terbaik regresi.\n",
    "#ukur kinerja setiap model pada setiap trainig dengan MSE,RMSE, R2."
   ]
  },
  {
   "cell_type": "markdown",
   "metadata": {},
   "source": [
    "### C. Analisis Hasil Training"
   ]
  },
  {
   "cell_type": "markdown",
   "metadata": {},
   "source": [
    "1. Tentukan **metode dan hyperparameter** mana yang yang paling bagus untuk setiap percobaan SVM Regresi?"
   ]
  },
  {
   "cell_type": "markdown",
   "metadata": {},
   "source": [
    "Jawaban.."
   ]
  },
  {
   "cell_type": "markdown",
   "metadata": {},
   "source": [
    "2. Analisi seluruh hasil percobaan diatas apakah data yang ditraining linier dan non linier. "
   ]
  },
  {
   "cell_type": "markdown",
   "metadata": {},
   "source": [
    "Jawaban.."
   ]
  },
  {
   "cell_type": "markdown",
   "metadata": {},
   "source": [
    "## 2. Support Vektor Machine (SVM) Klasifikasi (20%)"
   ]
  },
  {
   "cell_type": "markdown",
   "metadata": {},
   "source": [
    "## Ketentuan dataset \n",
    "\n",
    "### Generate sample data\n",
    "\n",
    "generate dataset sesuai dengan ketentuan nomer kelompok masing-masing:\n",
    "1. Kelompok 1 -> \n",
    "    X, y =make_moons(200, noise=0.3, random_state=100)\n",
    "2. Kelompok 2 -> \n",
    "    X, y = make_blobs(n_samples=400, centers=2, cluster_std=[1.0, 1.5], random_state=100)\n",
    "3. Kelompok 3 -> # Generate sample data\n",
    "    centers = [[1, 1], [-1, -1]]\n",
    "    X, y = make_blobs(n_samples=750, centers=centers, cluster_std=0.4,random_state=0)\n",
    "4. Kelompok 4 -> \n",
    "    centers = [[1, 1], [1, -1]]\n",
    "    X, y = make_blobs(n_samples=750, centers=centers, cluster_std=0.4,random_state=0)\n",
    "5. Kelompok 5 ->\n",
    "    centers = [[1, 1], [1, 3]]\n",
    "    X, y = make_blobs(n_samples=750, centers=centers, cluster_std=0.5,random_state=0)\n",
    "6. Kelompok 6 ->\n",
    "    centers = [[1, 1], [-1, 1]]\n",
    "    X, y = make_blobs(n_samples=750, centers=centers, cluster_std=0.5,random_state=0)\n",
    "7. Kelompok 7 ->\n",
    "    centers = [[1, 1], [1, -1]]\n",
    "    X, y = make_blobs(n_samples=750, centers=centers, cluster_std=0.2, random_state=0)\n",
    "8. Kelompok 8 ->\n",
    "    X, y = make_circles(n_samples=750, noise=0.02)\n",
    "9. Kelompok 9 ->\n",
    "    X, y =make_moons(200, noise=0.5, random_state=100)\n",
    "10. Kelompok 10 ->\n",
    "    X, y =make_moons(200, noise=0.5, random_state=150)\n",
    "11. Kelompok 11 ->\n",
    "    X, y = make_circles(n_samples=750, noise=0.06)\n",
    "12. Kelompok 12 ->\n",
    "    X, y = make_circles(n_samples=750, noise=0.09)\n",
    "13. Kelompok 13 ->\n",
    "    centers = [[1, 1],  [-1, 1]]\n",
    "    X, y = make_blobs(n_samples=750, centers=centers, cluster_std=0.2, random_state=0)\n",
    "14. Kelompok 14 ->    \n",
    "    X, y =make_moons(200, noise=0.5, random_state=200)\n",
    "15. Kelompok 15 ->    \n",
    "    X, y = make_blobs(n_samples=400, centers=2, cluster_std=[1.0, 1.5], random_state=100)  \n",
    "16. Kelompok 16 ->    \n",
    "    X, y = make_blobs(n_samples=400, centers=2, cluster_std=[1.0, 1.5], random_state=150) "
   ]
  },
  {
   "cell_type": "markdown",
   "metadata": {},
   "source": [
    "Petunjuk pengerjaan:\n",
    "1. Gunakan dataset tersebut untuk memprediksi nilai kelas dengan menggunakan SVM Klasifikasi. \n",
    "2. Sesuaikan model SVM Klasifikasi diatas apakan linier atau non linier dengan menentukan kernel dan tuning nilai c untuk menentukan lebar jalur SVM untuk menyesuaikan keluaran kelas  yang dihasilkan.\n",
    "3. Gunakan parameter akurasi, F1, akurasi, Presisi, Recall dan confusion matrix  untuk menentukan model terbaik."
   ]
  },
  {
   "cell_type": "markdown",
   "metadata": {},
   "source": [
    "### A. Generate  dataset sesuai ketentuan diatas."
   ]
  },
  {
   "cell_type": "markdown",
   "metadata": {},
   "source": [
    "1. Generate dataset"
   ]
  },
  {
   "cell_type": "code",
   "execution_count": 75,
   "metadata": {},
   "outputs": [],
   "source": [
    "# Generate some data\n",
    "import pandas as pd\n",
    "import numpy as np\n",
    "import matplotlib.pyplot as plt\n",
    "from sklearn.datasets import make_blobs\n",
    "from sklearn.datasets import make_moons\n",
    "\n",
    "centers = [[1, 1], [-1, -1]]\n",
    "X, y = make_blobs(n_samples=400, centers=2, cluster_std=[1.0, 1.5], random_state=100) #ganti sesuai ketentuan soal diatas."
   ]
  },
  {
   "cell_type": "markdown",
   "metadata": {},
   "source": [
    "2. ploting data X dan y dengan menggunakan style scatter dan berikan keterangan label x dan y diplotingnya."
   ]
  },
  {
   "cell_type": "code",
   "execution_count": 76,
   "metadata": {},
   "outputs": [
    {
     "data": {
      "image/png": "[encoded data removed]",
      "text/plain": [
       "<Figure size 640x480 with 1 Axes>"
      ]
     },
     "metadata": {},
     "output_type": "display_data"
    }
   ],
   "source": [
    "# 2- Visualizing the dataset.\n",
    "import matplotlib.pyplot as plt\n",
    "\n",
    "\n",
    "#code ploting\n",
    "\n",
    "# 2- Visualizing the dataset.\n",
    "from matplotlib import pyplot as plt\n",
    "\n",
    "# When the label y is 0, the class is represented with a blue square.\n",
    "# When the label y is 1, the class is represented with a green triangle.\n",
    "plt.plot(X[:, 0][y==1], X[:, 1][y==1], \"bs\")\n",
    "plt.plot(X[:, 0][y==0], X[:, 1][y==0], \"g^\")\n",
    "\n",
    "# X contains two features, x1 and x2\n",
    "plt.xlabel(r\"$x_1$\", fontsize=20)\n",
    "plt.ylabel(r\"$x_2$\", fontsize=20)\n",
    "\n",
    "# Simplifying the plot by removing the axis scales.\n",
    "plt.xticks([])\n",
    "plt.yticks([])\n",
    "\n",
    "# Displaying the plot.\n",
    "plt.show()"
   ]
  },
  {
   "cell_type": "markdown",
   "metadata": {},
   "source": [
    "### B. Training dengan model SVM Klasifikasi"
   ]
  },
  {
   "cell_type": "markdown",
   "metadata": {},
   "source": [
    "1. Model SVM Klasifikasi linier "
   ]
  },
  {
   "cell_type": "markdown",
   "metadata": {},
   "source": [
    "a. Pencarian model terbaik"
   ]
  },
  {
   "cell_type": "code",
   "execution_count": 77,
   "metadata": {},
   "outputs": [],
   "source": [
    "from sklearn.svm import SVC\n",
    "#Klasifikasi SVM  Linier\n",
    "#Import library metode machine learning.\n",
    "\n",
    "\n",
    "#split data training dan testing\n",
    "\n",
    "#Gunakan data trainig untuk fitting dan data testing untuk ukuran kinerja.\n",
    "#Training dengan menggunakan metode Klasifikasi SVM. \n",
    "#Lakukan berulang kali process fitting dengan mengganti hyperparameter kernel linier, C dan parameter lain (atau gunakan gridSearchCV)\n",
    "#kemudian mengukur kinerjanya sehingga mendapatkan model terbaik regresi.\n",
    "#ukur kinerja setiap model pada setiap trainig dengan accuracy,confusion matrix, precision, recall,  F1 score, dan ROC."
   ]
  },
  {
   "cell_type": "markdown",
   "metadata": {},
   "source": [
    "b. Analisis SVM Klasifikasi linier "
   ]
  },
  {
   "cell_type": "code",
   "execution_count": 78,
   "metadata": {},
   "outputs": [],
   "source": [
    "# Trining ulang SVM linier dengan kinerja terbaik\n",
    "#code\n",
    "# Evaluasi model terbaik  SVM linier\n",
    "#code"
   ]
  },
  {
   "cell_type": "markdown",
   "metadata": {},
   "source": [
    "Analisis kinerja model untuk medasarkan kemampuan memprediksi perkelas berdasarkan presisi, recall, F1 score dan ROC\n",
    "\n",
    "-Jawaban"
   ]
  },
  {
   "cell_type": "markdown",
   "metadata": {},
   "source": [
    "2. Model SVM Klasifikasi non linier"
   ]
  },
  {
   "cell_type": "markdown",
   "metadata": {},
   "source": [
    "a. Pencarian model terbaik"
   ]
  },
  {
   "cell_type": "code",
   "execution_count": 79,
   "metadata": {},
   "outputs": [],
   "source": [
    "from sklearn.svm import SVC\n",
    "#Klasifikasi SVM  non Linier\n",
    "#Import library metode machine learning.\n",
    "\n",
    "\n",
    "#split data training dan testing\n",
    "\n",
    "#Gunakan data trainig untuk fitting dan data testing untuk ukuran kinerja.\n",
    "#Training dengan menggunakan metode Klasifikasi SVM. \n",
    "#Lakukan berulang kali process fitting dengan mengganti hyperparameter kernel non linier (poly dan rbf), C dan parameter lain (atau gunakan gridSearchCV)\n",
    "#kemudian mengukur kinerjanya sehingga mendapatkan model terbaik regresi.\n",
    "#ukur kinerja setiap model pada setiap trainig dengan accuracy,confusion matrix, precision, recall,  F1 score, dan ROC."
   ]
  },
  {
   "cell_type": "markdown",
   "metadata": {},
   "source": [
    "b. Analisis SVM Klasifikasi non linier "
   ]
  },
  {
   "cell_type": "code",
   "execution_count": 80,
   "metadata": {},
   "outputs": [],
   "source": [
    "# Trining ulang SVM linier dengan kinerja terbaik\n",
    "#code\n",
    "# Evaluasi model terbaik  SVM non linier\n",
    "#code"
   ]
  },
  {
   "cell_type": "markdown",
   "metadata": {},
   "source": [
    "Analisis kinerja model untuk medasarkan kemampuan memprediksi perkelas berdasarkan presisi, recall, F1 score dan ROC\n",
    "\n",
    "-Jawaban"
   ]
  },
  {
   "cell_type": "markdown",
   "metadata": {},
   "source": [
    "### C. Analisis Hasil Training"
   ]
  },
  {
   "cell_type": "markdown",
   "metadata": {},
   "source": [
    "1. Tentukan **metode dan hyperparameter** mana yang yang paling bagus untuk setiap percobaan SVM Klasifikasi?"
   ]
  },
  {
   "cell_type": "markdown",
   "metadata": {},
   "source": [
    "Jawaban"
   ]
  },
  {
   "cell_type": "markdown",
   "metadata": {},
   "source": [
    "2. Analisi seluruh hasil percobaan diatas apakah data yang ditraining linier dan non linier. "
   ]
  },
  {
   "cell_type": "markdown",
   "metadata": {},
   "source": [
    "Jawaban"
   ]
  },
  {
   "cell_type": "markdown",
   "metadata": {},
   "source": [
    "## 3. Unsupervised Learning (20%)"
   ]
  },
  {
   "cell_type": "markdown",
   "metadata": {},
   "source": [
    "#### Ketentuan dataset\n",
    "Generate dataset dengan mengganti nilai noice dengan menjumlahkan nim terakhir setiap tim dan membagi dengan 100.  Contoh Tim 1 dengan angka terakhir dari NIM 110101016, 110101014, 110101015 adalah 6, 4,5  sehingga 6+4+5/100 = 0.15\n",
    "\n",
    "nilaiNoice = 0.48\\\n",
    "X, y = make_moons(n_samples=100, noise=nilaiNoice, random_state=42)"
   ]
  },
  {
   "cell_type": "markdown",
   "metadata": {},
   "source": [
    "Petunjuk pengerjaan:\n",
    "1. Clustering data diatas dengan menggunakan dbscan.\n",
    "2. Tentukan nilai epsilon dan minimal sample yang tepat.\n"
   ]
  },
  {
   "cell_type": "markdown",
   "metadata": {},
   "source": [
    "### A. Generate  dataset sesuai ketentuan diatas."
   ]
  },
  {
   "cell_type": "markdown",
   "metadata": {},
   "source": [
    "1. Generate dataset"
   ]
  },
  {
   "cell_type": "code",
   "execution_count": 81,
   "metadata": {},
   "outputs": [],
   "source": [
    "# Generate some data\n",
    "import pandas as pd\n",
    "import numpy as np\n",
    "import matplotlib.pyplot as plt\n",
    "from sklearn.datasets import make_moons\n",
    "\n",
    "nilaiNoice = 0.15\n",
    "X, y = make_moons(n_samples=100, noise=nilaiNoice, random_state=42)"
   ]
  },
  {
   "cell_type": "markdown",
   "metadata": {},
   "source": [
    "2. ploting data X dengan menggunakan style scatter dan berikan keterangan label x diplotingnya."
   ]
  },
  {
   "cell_type": "code",
   "execution_count": 82,
   "metadata": {},
   "outputs": [
    {
     "data": {
      "text/plain": [
       "[<matplotlib.lines.Line2D at 0x166a46950>]"
      ]
     },
     "execution_count": 82,
     "metadata": {},
     "output_type": "execute_result"
    },
    {
     "data": {
      "image/png": "[encoded data removed]",
      "text/plain": [
       "<Figure size 640x480 with 1 Axes>"
      ]
     },
     "metadata": {},
     "output_type": "display_data"
    }
   ],
   "source": [
    "import matplotlib.pyplot as plt\n",
    "\n",
    "#lengkapi dengan ketentuan soal diatas\n",
    "plt.plot(X[:,[0]],X[:,[1]], '.')\n"
   ]
  },
  {
   "cell_type": "markdown",
   "metadata": {},
   "source": [
    "1. Trining data dengan metode unsupervised dengan dbscan"
   ]
  },
  {
   "cell_type": "code",
   "execution_count": 83,
   "metadata": {},
   "outputs": [],
   "source": [
    "from sklearn.cluster import DBSCAN\n",
    "\n",
    "#clustering data dengan DBSCAN\n",
    "#Import library metode machine learning.\n",
    "\n",
    "#Tentukan nilai epsilon dan minimum sample dengan melakukan training berulang kali dan ploting hasilnya.  Pilih 2 epsilong dan minimum sample"
   ]
  },
  {
   "cell_type": "code",
   "execution_count": 84,
   "metadata": {},
   "outputs": [],
   "source": [
    "def plot_dbscan(dbscan, X, size, show_xlabels=True, show_ylabels=True):\n",
    "    core_mask = np.zeros_like(dbscan.labels_, dtype=bool)\n",
    "    core_mask[dbscan.core_sample_indices_] = True\n",
    "    anomalies_mask = dbscan.labels_ == -1\n",
    "    non_core_mask = ~(core_mask | anomalies_mask)\n",
    "    cores = dbscan.components_\n",
    "    anomalies = X[anomalies_mask]\n",
    "    non_cores = X[non_core_mask]\n",
    "    plt.scatter(cores[:, 0], cores[:, 1],\n",
    "    c=dbscan.labels_[core_mask], marker='o', s=size, cmap=\"Paired\")\n",
    "    plt.scatter(cores[:, 0], cores[:, 1], marker='*', s=20, c=dbscan.labels_[core_mask])\n",
    "    plt.scatter(anomalies[:, 0], anomalies[:, 1],\n",
    "    c=\"r\", marker=\"x\", s=100)\n",
    "    plt.scatter(non_cores[:, 0], non_cores[:, 1], c=dbscan.labels_[non_core_mask], marker=\".\")\n",
    "    if show_xlabels:\n",
    "        plt.xlabel(\"$x_1$\", fontsize=14)\n",
    "    else:\n",
    "        plt.tick_params(labelbottom=False)\n",
    "    if show_ylabels:\n",
    "        plt.ylabel(\"$x_2$\", fontsize=14, rotation=0)\n",
    "    else:\n",
    "        plt.tick_params(labelleft=False)\n",
    "    plt.title(\"eps={:.2f}, min_samples={}\".format(dbscan.eps, dbscan.min_samples), fontsize=14)"
   ]
  },
  {
   "cell_type": "markdown",
   "metadata": {},
   "source": [
    "2. Ploting hasil clustering dengan fungsi diatas"
   ]
  },
  {
   "cell_type": "code",
   "execution_count": 85,
   "metadata": {},
   "outputs": [],
   "source": [
    "#ploting 2 plot dengan  2 epsilon dan minimum sample yang sudah ditraining.\n",
    "#Gunakan plot_dbscan untuk ploting \n"
   ]
  },
  {
   "cell_type": "markdown",
   "metadata": {},
   "source": [
    "3. Tentukan model clastering mana yang paling bagus dan tentukan berapa cluster dan tampilkan data yang anomali"
   ]
  },
  {
   "cell_type": "code",
   "execution_count": 86,
   "metadata": {},
   "outputs": [],
   "source": [
    "## Keluarkan berapa cluster dan tampilkan clustering\n",
    "import numpy as np\n",
    "#np.unique(dbscan.labels_)  #contoh cari di hands on\n"
   ]
  },
  {
   "cell_type": "markdown",
   "metadata": {},
   "source": [
    "## 4. Dimentional Reduction dan Klasifikasi  (40%)"
   ]
  },
  {
   "cell_type": "markdown",
   "metadata": {},
   "source": [
    "Ketentuan Pengerjaan:\n",
    "\n",
    "1. Gunakan dataset Fashion MNIST\n",
    "2. Bandingkan hasil 2 model klasifikasi dengan menggunakan dataset sebelum dan sesudah diriduksi dengan ketentuan dimantional reduction dibawah ini.\n",
    "3. Gunakan 2 metode klasifikasi dengan ketentuan Kelompok Ganjil: ANN dan DT, Kelompok Genap: ANN dan SVM.\n",
    "\n",
    "Ketentuan pertanyaan sesuai nomer kelompok untuk dimentional reduction:\n",
    "1. Variansi 90%, berapakah komponen fitur yang dipertahankan?\n",
    "2. Variansi 70%, berapakah komponen fitur yang dipertahankan?\n",
    "3. Variansi 89%, berapakah komponen fitur yang dipertahankan?\n",
    "4. Variansi 82%, berapakah komponen fitur yang dipertahankan?\n",
    "5. Variansi 88%, berapakah komponen fitur yang dipertahankan?\n",
    "6. Variansi 85%, berapakah komponen fitur yang dipertahankan?\n",
    "7. Variansi 60%, berapakah komponen fitur yang dipertahankan?\n",
    "8. Variansi 72%, berapakah komponen fitur yang dipertahankan?\n",
    "9. Fitur yang dipertahankan 200, berapa persen variansinya?\n",
    "10. Fitur yang dipertahankan 250, berapa persen variansinya?\n",
    "11. Fitur yang dipertahankan 220, berapa persen variansinya?\n",
    "12. Fitur yang dipertahankan 280, berapa persen variansinya?\n",
    "13. Fitur yang dipertahankan 230, berapa persen variansinya?\n",
    "14. Fitur yang dipertahankan 300, berapa persen variansinya?\n",
    "15. Fitur yang dipertahankan 100, berapa persen variansinya?\n",
    "16. Fitur yang dipertahankan 150, berapa persen variansinya?"
   ]
  },
  {
   "cell_type": "markdown",
   "metadata": {},
   "source": []
  },
  {
   "cell_type": "markdown",
   "metadata": {},
   "source": [
    "### A. Generate  dataset sesuai ketentuan diatas dan siapkan dataset."
   ]
  },
  {
   "cell_type": "markdown",
   "metadata": {},
   "source": [
    "1. Generate dataset"
   ]
  },
  {
   "cell_type": "code",
   "execution_count": 2,
   "metadata": {},
   "outputs": [
    {
     "name": "stdout",
     "output_type": "stream",
     "text": [
      "Ukuran data fitur (X): (70000, 784)\n",
      "Ukuran data target (y): (70000,)\n"
     ]
    }
   ],
   "source": [
    "import numpy as np\n",
    "import pandas as pd\n",
    "import matplotlib.pyplot as plt\n",
    "\n",
    "dataTraining = pd.read_csv(\"fashion-mnist_train.csv\")\n",
    "dataTest = pd.read_csv(\"fashion-mnist_test.csv\")\n",
    "\n",
    "df = pd.concat([dataTraining, dataTest])\n",
    "\n",
    "X = df.drop(columns=['label'])\n",
    "y = df['label']\n",
    "\n",
    "# Memeriksa ukuran data\n",
    "print(\"Ukuran data fitur (X):\", X.shape)\n",
    "print(\"Ukuran data target (y):\", y.shape)"
   ]
  },
  {
   "cell_type": "code",
   "execution_count": 3,
   "metadata": {},
   "outputs": [
    {
     "name": "stdout",
     "output_type": "stream",
     "text": [
      "      pixel1  pixel2  pixel3  pixel4  pixel5  pixel6  pixel7  pixel8  pixel9  \\\n",
      "0          0       0       0       0       0       0       0       0       0   \n",
      "1          0       0       0       0       0       0       0       0       0   \n",
      "2          0       0       0       0       0       0       0       5       0   \n",
      "3          0       0       0       1       2       0       0       0       0   \n",
      "4          0       0       0       0       0       0       0       0       0   \n",
      "...      ...     ...     ...     ...     ...     ...     ...     ...     ...   \n",
      "9995       0       0       0       0       0       0       0       0       0   \n",
      "9996       0       0       0       0       0       0       0       0       0   \n",
      "9997       0       0       0       0       0       0       0       0       0   \n",
      "9998       0       1       3       0       0       0       0       0       0   \n",
      "9999       0       0       0       0       0       0       0     140     119   \n",
      "\n",
      "      pixel10  ...  pixel775  pixel776  pixel777  pixel778  pixel779  \\\n",
      "0           0  ...         0         0         0         0         0   \n",
      "1           0  ...         0         0         0         0         0   \n",
      "2           0  ...         0         0         0        30        43   \n",
      "3           0  ...         3         0         0         0         0   \n",
      "4           0  ...         0         0         0         0         0   \n",
      "...       ...  ...       ...       ...       ...       ...       ...   \n",
      "9995       37  ...        32        23        14        20         0   \n",
      "9996        0  ...         0         0         0         2        52   \n",
      "9997        0  ...       175       172       172       182       199   \n",
      "9998        0  ...         0         0         0         0         0   \n",
      "9999      103  ...       111        95        75        44         1   \n",
      "\n",
      "      pixel780  pixel781  pixel782  pixel783  pixel784  \n",
      "0            0         0         0         0         0  \n",
      "1            0         0         0         0         0  \n",
      "2            0         0         0         0         0  \n",
      "3            1         0         0         0         0  \n",
      "4            0         0         0         0         0  \n",
      "...        ...       ...       ...       ...       ...  \n",
      "9995         0         1         0         0         0  \n",
      "9996        23        28         0         0         0  \n",
      "9997       222        42         0         1         0  \n",
      "9998         1         0         0         0         0  \n",
      "9999         0         0         0         0         0  \n",
      "\n",
      "[70000 rows x 784 columns]\n"
     ]
    },
    {
     "data": {
      "text/plain": [
       "Index(['label', 'pixel1', 'pixel2', 'pixel3', 'pixel4', 'pixel5', 'pixel6',\n",
       "       'pixel7', 'pixel8', 'pixel9',\n",
       "       ...\n",
       "       'pixel775', 'pixel776', 'pixel777', 'pixel778', 'pixel779', 'pixel780',\n",
       "       'pixel781', 'pixel782', 'pixel783', 'pixel784'],\n",
       "      dtype='object', length=785)"
      ]
     },
     "execution_count": 3,
     "metadata": {},
     "output_type": "execute_result"
    }
   ],
   "source": [
    "# tampilkan header seluruh kelompok\n",
    "print(X)\n",
    "dataTraining.columns"
   ]
  },
  {
   "cell_type": "markdown",
   "metadata": {},
   "source": [
    "2. Siapkan dataset"
   ]
  },
  {
   "cell_type": "code",
   "execution_count": 4,
   "metadata": {},
   "outputs": [],
   "source": [
    "X_train = dataTraining.iloc[:,1:]\n",
    "Y_train = dataTraining.iloc[:,[0]]\n",
    "X_test = dataTest.iloc[:,1:]\n",
    "Y_test  = dataTest.iloc[:,[0]]"
   ]
  },
  {
   "cell_type": "markdown",
   "metadata": {},
   "source": [
    "### B. Training dengan menggunakan ANN dan DT untuk Kelompok ganjil atau  ANN dan SVM  untuk kelompok genap (20%)\n",
    "\n",
    "Gunakan ANN dan DT untuk Kelompok ganjil atau  ANN dan DT  untuk kelompok genap untuk metode klasifikasi.  Training data yang belum  di reduce lalu bandingkan hasil classifikasinya menggunakan pengukuran performace (accurasi,recall, presisi dan lain-lain). tunning hyperparameter berulang kali atau gunakan gridsearchCV."
   ]
  },
  {
   "cell_type": "code",
   "execution_count": 5,
   "metadata": {},
   "outputs": [
    {
     "name": "stdout",
     "output_type": "stream",
     "text": [
      "Fitting 3 folds for each of 32 candidates, totalling 96 fits\n",
      "[CV 1/3] END activation=tanh, alpha=0.0001, hidden_layer_sizes=(100, 150), learning_rate=constant, solver=sgd;, score=0.781 total time=  29.3s\n",
      "[CV 2/3] END activation=tanh, alpha=0.0001, hidden_layer_sizes=(100, 150), learning_rate=constant, solver=sgd;, score=0.797 total time=  38.9s\n",
      "[CV 3/3] END activation=tanh, alpha=0.0001, hidden_layer_sizes=(100, 150), learning_rate=constant, solver=sgd;, score=0.790 total time=  49.1s\n",
      "[CV 1/3] END activation=tanh, alpha=0.0001, hidden_layer_sizes=(100, 150), learning_rate=constant, solver=adam;, score=0.756 total time=  33.8s\n",
      "[CV 2/3] END activation=tanh, alpha=0.0001, hidden_layer_sizes=(100, 150), learning_rate=constant, solver=adam;, score=0.794 total time= 1.2min\n",
      "[CV 3/3] END activation=tanh, alpha=0.0001, hidden_layer_sizes=(100, 150), learning_rate=constant, solver=adam;, score=0.747 total time=  45.5s\n",
      "[CV 1/3] END activation=tanh, alpha=0.0001, hidden_layer_sizes=(100, 150), learning_rate=adaptive, solver=sgd;, score=0.847 total time= 5.9min\n",
      "[CV 2/3] END activation=tanh, alpha=0.0001, hidden_layer_sizes=(100, 150), learning_rate=adaptive, solver=sgd;, score=0.852 total time= 5.6min\n",
      "[CV 3/3] END activation=tanh, alpha=0.0001, hidden_layer_sizes=(100, 150), learning_rate=adaptive, solver=sgd;, score=0.843 total time= 5.7min\n",
      "[CV 1/3] END activation=tanh, alpha=0.0001, hidden_layer_sizes=(100, 150), learning_rate=adaptive, solver=adam;, score=0.772 total time= 1.2min\n",
      "[CV 2/3] END activation=tanh, alpha=0.0001, hidden_layer_sizes=(100, 150), learning_rate=adaptive, solver=adam;, score=0.764 total time=  50.6s\n",
      "[CV 3/3] END activation=tanh, alpha=0.0001, hidden_layer_sizes=(100, 150), learning_rate=adaptive, solver=adam;, score=0.762 total time= 1.1min\n",
      "[CV 1/3] END activation=tanh, alpha=0.0001, hidden_layer_sizes=(100, 100), learning_rate=constant, solver=sgd;, score=0.786 total time=  50.6s\n",
      "[CV 2/3] END activation=tanh, alpha=0.0001, hidden_layer_sizes=(100, 100), learning_rate=constant, solver=sgd;, score=0.781 total time=  29.9s\n",
      "[CV 3/3] END activation=tanh, alpha=0.0001, hidden_layer_sizes=(100, 100), learning_rate=constant, solver=sgd;, score=0.782 total time=  26.7s\n",
      "[CV 1/3] END activation=tanh, alpha=0.0001, hidden_layer_sizes=(100, 100), learning_rate=constant, solver=adam;, score=0.769 total time=  56.7s\n",
      "[CV 2/3] END activation=tanh, alpha=0.0001, hidden_layer_sizes=(100, 100), learning_rate=constant, solver=adam;, score=0.766 total time=  55.9s\n",
      "[CV 3/3] END activation=tanh, alpha=0.0001, hidden_layer_sizes=(100, 100), learning_rate=constant, solver=adam;, score=0.754 total time=  45.6s\n",
      "[CV 1/3] END activation=tanh, alpha=0.0001, hidden_layer_sizes=(100, 100), learning_rate=adaptive, solver=sgd;, score=0.851 total time= 6.4min\n",
      "[CV 2/3] END activation=tanh, alpha=0.0001, hidden_layer_sizes=(100, 100), learning_rate=adaptive, solver=sgd;, score=0.849 total time= 5.9min\n",
      "[CV 3/3] END activation=tanh, alpha=0.0001, hidden_layer_sizes=(100, 100), learning_rate=adaptive, solver=sgd;, score=0.854 total time= 7.4min\n",
      "[CV 1/3] END activation=tanh, alpha=0.0001, hidden_layer_sizes=(100, 100), learning_rate=adaptive, solver=adam;, score=0.739 total time=  38.8s\n",
      "[CV 2/3] END activation=tanh, alpha=0.0001, hidden_layer_sizes=(100, 100), learning_rate=adaptive, solver=adam;, score=0.761 total time= 1.3min\n",
      "[CV 3/3] END activation=tanh, alpha=0.0001, hidden_layer_sizes=(100, 100), learning_rate=adaptive, solver=adam;, score=0.751 total time=  22.8s\n",
      "[CV 1/3] END activation=tanh, alpha=0.05, hidden_layer_sizes=(100, 150), learning_rate=constant, solver=sgd;, score=0.799 total time=  52.2s\n",
      "[CV 2/3] END activation=tanh, alpha=0.05, hidden_layer_sizes=(100, 150), learning_rate=constant, solver=sgd;, score=0.773 total time=  38.3s\n",
      "[CV 3/3] END activation=tanh, alpha=0.05, hidden_layer_sizes=(100, 150), learning_rate=constant, solver=sgd;, score=0.774 total time=  27.0s\n",
      "[CV 1/3] END activation=tanh, alpha=0.05, hidden_layer_sizes=(100, 150), learning_rate=constant, solver=adam;, score=0.746 total time=  41.5s\n",
      "[CV 2/3] END activation=tanh, alpha=0.05, hidden_layer_sizes=(100, 150), learning_rate=constant, solver=adam;, score=0.747 total time=  36.8s\n",
      "[CV 3/3] END activation=tanh, alpha=0.05, hidden_layer_sizes=(100, 150), learning_rate=constant, solver=adam;, score=0.764 total time= 1.2min\n",
      "[CV 1/3] END activation=tanh, alpha=0.05, hidden_layer_sizes=(100, 150), learning_rate=adaptive, solver=sgd;, score=0.855 total time= 6.2min\n",
      "[CV 2/3] END activation=tanh, alpha=0.05, hidden_layer_sizes=(100, 150), learning_rate=adaptive, solver=sgd;, score=0.852 total time= 5.9min\n",
      "[CV 3/3] END activation=tanh, alpha=0.05, hidden_layer_sizes=(100, 150), learning_rate=adaptive, solver=sgd;, score=0.851 total time= 7.6min\n",
      "[CV 1/3] END activation=tanh, alpha=0.05, hidden_layer_sizes=(100, 150), learning_rate=adaptive, solver=adam;, score=0.771 total time= 1.2min\n",
      "[CV 2/3] END activation=tanh, alpha=0.05, hidden_layer_sizes=(100, 150), learning_rate=adaptive, solver=adam;, score=0.694 total time=  14.1s\n",
      "[CV 3/3] END activation=tanh, alpha=0.05, hidden_layer_sizes=(100, 150), learning_rate=adaptive, solver=adam;, score=0.729 total time=  39.4s\n",
      "[CV 1/3] END activation=tanh, alpha=0.05, hidden_layer_sizes=(100, 100), learning_rate=constant, solver=sgd;, score=0.785 total time=  27.0s\n",
      "[CV 2/3] END activation=tanh, alpha=0.05, hidden_layer_sizes=(100, 100), learning_rate=constant, solver=sgd;, score=0.781 total time=  34.5s\n",
      "[CV 3/3] END activation=tanh, alpha=0.05, hidden_layer_sizes=(100, 100), learning_rate=constant, solver=sgd;, score=0.754 total time=  28.9s\n",
      "[CV 1/3] END activation=tanh, alpha=0.05, hidden_layer_sizes=(100, 100), learning_rate=constant, solver=adam;, score=0.748 total time=  39.0s\n",
      "[CV 2/3] END activation=tanh, alpha=0.05, hidden_layer_sizes=(100, 100), learning_rate=constant, solver=adam;, score=0.775 total time= 1.1min\n",
      "[CV 3/3] END activation=tanh, alpha=0.05, hidden_layer_sizes=(100, 100), learning_rate=constant, solver=adam;, score=0.757 total time=  49.9s\n",
      "[CV 1/3] END activation=tanh, alpha=0.05, hidden_layer_sizes=(100, 100), learning_rate=adaptive, solver=sgd;, score=0.853 total time= 6.3min\n",
      "[CV 2/3] END activation=tanh, alpha=0.05, hidden_layer_sizes=(100, 100), learning_rate=adaptive, solver=sgd;, score=0.849 total time= 5.3min\n",
      "[CV 3/3] END activation=tanh, alpha=0.05, hidden_layer_sizes=(100, 100), learning_rate=adaptive, solver=sgd;, score=0.843 total time= 4.7min\n",
      "[CV 1/3] END activation=tanh, alpha=0.05, hidden_layer_sizes=(100, 100), learning_rate=adaptive, solver=adam;, score=0.773 total time=  54.2s\n",
      "[CV 2/3] END activation=tanh, alpha=0.05, hidden_layer_sizes=(100, 100), learning_rate=adaptive, solver=adam;, score=0.777 total time= 1.1min\n",
      "[CV 3/3] END activation=tanh, alpha=0.05, hidden_layer_sizes=(100, 100), learning_rate=adaptive, solver=adam;, score=0.680 total time=  25.0s\n",
      "[CV 1/3] END activation=relu, alpha=0.0001, hidden_layer_sizes=(100, 150), learning_rate=constant, solver=sgd;, score=0.101 total time=  14.7s\n",
      "[CV 2/3] END activation=relu, alpha=0.0001, hidden_layer_sizes=(100, 150), learning_rate=constant, solver=sgd;, score=0.101 total time=  14.9s\n",
      "[CV 3/3] END activation=relu, alpha=0.0001, hidden_layer_sizes=(100, 150), learning_rate=constant, solver=sgd;, score=0.101 total time=  16.4s\n",
      "[CV 1/3] END activation=relu, alpha=0.0001, hidden_layer_sizes=(100, 150), learning_rate=constant, solver=adam;, score=0.871 total time= 2.8min\n",
      "[CV 2/3] END activation=relu, alpha=0.0001, hidden_layer_sizes=(100, 150), learning_rate=constant, solver=adam;, score=0.866 total time= 2.2min\n",
      "[CV 3/3] END activation=relu, alpha=0.0001, hidden_layer_sizes=(100, 150), learning_rate=constant, solver=adam;, score=0.871 total time= 2.2min\n",
      "[CV 1/3] END activation=relu, alpha=0.0001, hidden_layer_sizes=(100, 150), learning_rate=adaptive, solver=sgd;, score=0.101 total time= 1.1min\n",
      "[CV 2/3] END activation=relu, alpha=0.0001, hidden_layer_sizes=(100, 150), learning_rate=adaptive, solver=sgd;, score=0.465 total time= 5.1min\n",
      "[CV 3/3] END activation=relu, alpha=0.0001, hidden_layer_sizes=(100, 150), learning_rate=adaptive, solver=sgd;, score=0.760 total time= 6.6min\n",
      "[CV 1/3] END activation=relu, alpha=0.0001, hidden_layer_sizes=(100, 150), learning_rate=adaptive, solver=adam;, score=0.861 total time= 2.8min\n",
      "[CV 2/3] END activation=relu, alpha=0.0001, hidden_layer_sizes=(100, 150), learning_rate=adaptive, solver=adam;, score=0.865 total time= 2.6min\n",
      "[CV 3/3] END activation=relu, alpha=0.0001, hidden_layer_sizes=(100, 150), learning_rate=adaptive, solver=adam;, score=0.866 total time= 2.1min\n",
      "[CV 1/3] END activation=relu, alpha=0.0001, hidden_layer_sizes=(100, 100), learning_rate=constant, solver=sgd;, score=0.101 total time=  16.2s\n",
      "[CV 2/3] END activation=relu, alpha=0.0001, hidden_layer_sizes=(100, 100), learning_rate=constant, solver=sgd;, score=0.100 total time=  12.5s\n",
      "[CV 3/3] END activation=relu, alpha=0.0001, hidden_layer_sizes=(100, 100), learning_rate=constant, solver=sgd;, score=0.101 total time=  14.8s\n",
      "[CV 1/3] END activation=relu, alpha=0.0001, hidden_layer_sizes=(100, 100), learning_rate=constant, solver=adam;, score=0.870 total time= 1.7min\n",
      "[CV 2/3] END activation=relu, alpha=0.0001, hidden_layer_sizes=(100, 100), learning_rate=constant, solver=adam;, score=0.870 total time= 2.6min\n",
      "[CV 3/3] END activation=relu, alpha=0.0001, hidden_layer_sizes=(100, 100), learning_rate=constant, solver=adam;, score=0.863 total time= 2.9min\n",
      "[CV 1/3] END activation=relu, alpha=0.0001, hidden_layer_sizes=(100, 100), learning_rate=adaptive, solver=sgd;, score=0.101 total time=  59.2s\n",
      "[CV 2/3] END activation=relu, alpha=0.0001, hidden_layer_sizes=(100, 100), learning_rate=adaptive, solver=sgd;, score=0.101 total time=  58.9s\n",
      "[CV 3/3] END activation=relu, alpha=0.0001, hidden_layer_sizes=(100, 100), learning_rate=adaptive, solver=sgd;, score=0.117 total time= 1.1min\n",
      "[CV 1/3] END activation=relu, alpha=0.0001, hidden_layer_sizes=(100, 100), learning_rate=adaptive, solver=adam;, score=0.873 total time= 2.9min\n",
      "[CV 2/3] END activation=relu, alpha=0.0001, hidden_layer_sizes=(100, 100), learning_rate=adaptive, solver=adam;, score=0.865 total time= 2.6min\n",
      "[CV 3/3] END activation=relu, alpha=0.0001, hidden_layer_sizes=(100, 100), learning_rate=adaptive, solver=adam;, score=0.871 total time= 1.7min\n"
     ]
    },
    {
     "name": "stderr",
     "output_type": "stream",
     "text": [
      "C:\\Users\\user\\AppData\\Local\\Packages\\PythonSoftwareFoundation.Python.3.12_qbz5n2kfra8p0\\LocalCache\\local-packages\\Python312\\site-packages\\sklearn\\neural_network\\_multilayer_perceptron.py:691: ConvergenceWarning: Stochastic Optimizer: Maximum iterations (1000) reached and the optimization hasn't converged yet.\n",
      "  warnings.warn(\n"
     ]
    },
    {
     "name": "stdout",
     "output_type": "stream",
     "text": [
      "[CV 1/3] END activation=relu, alpha=0.05, hidden_layer_sizes=(100, 150), learning_rate=constant, solver=sgd;, score=0.101 total time=14.7min\n",
      "[CV 2/3] END activation=relu, alpha=0.05, hidden_layer_sizes=(100, 150), learning_rate=constant, solver=sgd;, score=0.461 total time=  58.6s\n"
     ]
    },
    {
     "name": "stderr",
     "output_type": "stream",
     "text": [
      "C:\\Users\\user\\AppData\\Local\\Packages\\PythonSoftwareFoundation.Python.3.12_qbz5n2kfra8p0\\LocalCache\\local-packages\\Python312\\site-packages\\sklearn\\neural_network\\_multilayer_perceptron.py:691: ConvergenceWarning: Stochastic Optimizer: Maximum iterations (1000) reached and the optimization hasn't converged yet.\n",
      "  warnings.warn(\n"
     ]
    },
    {
     "name": "stdout",
     "output_type": "stream",
     "text": [
      "[CV 3/3] END activation=relu, alpha=0.05, hidden_layer_sizes=(100, 150), learning_rate=constant, solver=sgd;, score=0.101 total time=15.3min\n",
      "[CV 1/3] END activation=relu, alpha=0.05, hidden_layer_sizes=(100, 150), learning_rate=constant, solver=adam;, score=0.867 total time= 2.7min\n",
      "[CV 2/3] END activation=relu, alpha=0.05, hidden_layer_sizes=(100, 150), learning_rate=constant, solver=adam;, score=0.868 total time= 2.4min\n",
      "[CV 3/3] END activation=relu, alpha=0.05, hidden_layer_sizes=(100, 150), learning_rate=constant, solver=adam;, score=0.865 total time= 2.1min\n"
     ]
    },
    {
     "name": "stderr",
     "output_type": "stream",
     "text": [
      "C:\\Users\\user\\AppData\\Local\\Packages\\PythonSoftwareFoundation.Python.3.12_qbz5n2kfra8p0\\LocalCache\\local-packages\\Python312\\site-packages\\sklearn\\neural_network\\_multilayer_perceptron.py:691: ConvergenceWarning: Stochastic Optimizer: Maximum iterations (1000) reached and the optimization hasn't converged yet.\n",
      "  warnings.warn(\n"
     ]
    },
    {
     "name": "stdout",
     "output_type": "stream",
     "text": [
      "[CV 1/3] END activation=relu, alpha=0.05, hidden_layer_sizes=(100, 150), learning_rate=adaptive, solver=sgd;, score=0.101 total time=13.5min\n"
     ]
    },
    {
     "name": "stderr",
     "output_type": "stream",
     "text": [
      "C:\\Users\\user\\AppData\\Local\\Packages\\PythonSoftwareFoundation.Python.3.12_qbz5n2kfra8p0\\LocalCache\\local-packages\\Python312\\site-packages\\sklearn\\neural_network\\_multilayer_perceptron.py:691: ConvergenceWarning: Stochastic Optimizer: Maximum iterations (1000) reached and the optimization hasn't converged yet.\n",
      "  warnings.warn(\n"
     ]
    },
    {
     "name": "stdout",
     "output_type": "stream",
     "text": [
      "[CV 2/3] END activation=relu, alpha=0.05, hidden_layer_sizes=(100, 150), learning_rate=adaptive, solver=sgd;, score=0.831 total time=13.5min\n",
      "[CV 3/3] END activation=relu, alpha=0.05, hidden_layer_sizes=(100, 150), learning_rate=adaptive, solver=sgd;, score=0.189 total time= 3.8min\n",
      "[CV 1/3] END activation=relu, alpha=0.05, hidden_layer_sizes=(100, 150), learning_rate=adaptive, solver=adam;, score=0.864 total time= 2.2min\n",
      "[CV 2/3] END activation=relu, alpha=0.05, hidden_layer_sizes=(100, 150), learning_rate=adaptive, solver=adam;, score=0.870 total time= 2.0min\n",
      "[CV 3/3] END activation=relu, alpha=0.05, hidden_layer_sizes=(100, 150), learning_rate=adaptive, solver=adam;, score=0.861 total time= 1.4min\n"
     ]
    },
    {
     "name": "stderr",
     "output_type": "stream",
     "text": [
      "C:\\Users\\user\\AppData\\Local\\Packages\\PythonSoftwareFoundation.Python.3.12_qbz5n2kfra8p0\\LocalCache\\local-packages\\Python312\\site-packages\\sklearn\\neural_network\\_multilayer_perceptron.py:691: ConvergenceWarning: Stochastic Optimizer: Maximum iterations (1000) reached and the optimization hasn't converged yet.\n",
      "  warnings.warn(\n"
     ]
    },
    {
     "name": "stdout",
     "output_type": "stream",
     "text": [
      "[CV 1/3] END activation=relu, alpha=0.05, hidden_layer_sizes=(100, 100), learning_rate=constant, solver=sgd;, score=0.101 total time=12.7min\n",
      "[CV 2/3] END activation=relu, alpha=0.05, hidden_layer_sizes=(100, 100), learning_rate=constant, solver=sgd;, score=0.542 total time= 3.7min\n"
     ]
    },
    {
     "name": "stderr",
     "output_type": "stream",
     "text": [
      "C:\\Users\\user\\AppData\\Local\\Packages\\PythonSoftwareFoundation.Python.3.12_qbz5n2kfra8p0\\LocalCache\\local-packages\\Python312\\site-packages\\sklearn\\neural_network\\_multilayer_perceptron.py:691: ConvergenceWarning: Stochastic Optimizer: Maximum iterations (1000) reached and the optimization hasn't converged yet.\n",
      "  warnings.warn(\n"
     ]
    },
    {
     "name": "stdout",
     "output_type": "stream",
     "text": [
      "[CV 3/3] END activation=relu, alpha=0.05, hidden_layer_sizes=(100, 100), learning_rate=constant, solver=sgd;, score=0.101 total time=13.5min\n",
      "[CV 1/3] END activation=relu, alpha=0.05, hidden_layer_sizes=(100, 100), learning_rate=constant, solver=adam;, score=0.864 total time= 5.8min\n",
      "[CV 2/3] END activation=relu, alpha=0.05, hidden_layer_sizes=(100, 100), learning_rate=constant, solver=adam;, score=0.867 total time= 2.3min\n",
      "[CV 3/3] END activation=relu, alpha=0.05, hidden_layer_sizes=(100, 100), learning_rate=constant, solver=adam;, score=0.868 total time= 3.0min\n"
     ]
    },
    {
     "name": "stderr",
     "output_type": "stream",
     "text": [
      "C:\\Users\\user\\AppData\\Local\\Packages\\PythonSoftwareFoundation.Python.3.12_qbz5n2kfra8p0\\LocalCache\\local-packages\\Python312\\site-packages\\sklearn\\neural_network\\_multilayer_perceptron.py:691: ConvergenceWarning: Stochastic Optimizer: Maximum iterations (1000) reached and the optimization hasn't converged yet.\n",
      "  warnings.warn(\n"
     ]
    },
    {
     "name": "stdout",
     "output_type": "stream",
     "text": [
      "[CV 1/3] END activation=relu, alpha=0.05, hidden_layer_sizes=(100, 100), learning_rate=adaptive, solver=sgd;, score=0.101 total time=13.7min\n"
     ]
    },
    {
     "name": "stderr",
     "output_type": "stream",
     "text": [
      "C:\\Users\\user\\AppData\\Local\\Packages\\PythonSoftwareFoundation.Python.3.12_qbz5n2kfra8p0\\LocalCache\\local-packages\\Python312\\site-packages\\sklearn\\neural_network\\_multilayer_perceptron.py:691: ConvergenceWarning: Stochastic Optimizer: Maximum iterations (1000) reached and the optimization hasn't converged yet.\n",
      "  warnings.warn(\n"
     ]
    },
    {
     "name": "stdout",
     "output_type": "stream",
     "text": [
      "[CV 2/3] END activation=relu, alpha=0.05, hidden_layer_sizes=(100, 100), learning_rate=adaptive, solver=sgd;, score=0.101 total time=13.4min\n"
     ]
    },
    {
     "name": "stderr",
     "output_type": "stream",
     "text": [
      "C:\\Users\\user\\AppData\\Local\\Packages\\PythonSoftwareFoundation.Python.3.12_qbz5n2kfra8p0\\LocalCache\\local-packages\\Python312\\site-packages\\sklearn\\neural_network\\_multilayer_perceptron.py:691: ConvergenceWarning: Stochastic Optimizer: Maximum iterations (1000) reached and the optimization hasn't converged yet.\n",
      "  warnings.warn(\n"
     ]
    },
    {
     "name": "stdout",
     "output_type": "stream",
     "text": [
      "[CV 3/3] END activation=relu, alpha=0.05, hidden_layer_sizes=(100, 100), learning_rate=adaptive, solver=sgd;, score=0.101 total time=14.0min\n",
      "[CV 1/3] END activation=relu, alpha=0.05, hidden_layer_sizes=(100, 100), learning_rate=adaptive, solver=adam;, score=0.863 total time= 1.4min\n",
      "[CV 2/3] END activation=relu, alpha=0.05, hidden_layer_sizes=(100, 100), learning_rate=adaptive, solver=adam;, score=0.869 total time= 1.6min\n",
      "[CV 3/3] END activation=relu, alpha=0.05, hidden_layer_sizes=(100, 100), learning_rate=adaptive, solver=adam;, score=0.862 total time= 1.7min\n",
      "{'activation': 'relu', 'alpha': 0.0001, 'hidden_layer_sizes': (100, 100), 'learning_rate': 'adaptive', 'solver': 'adam'}\n",
      "MLPClassifier(hidden_layer_sizes=(100, 100), learning_rate='adaptive',\n",
      "              max_iter=1000)\n",
      "              precision    recall  f1-score   support\n",
      "\n",
      "           0       0.88      0.73      0.80      1415\n",
      "           1       0.96      0.98      0.97      1365\n",
      "           2       0.74      0.83      0.78      1399\n",
      "           3       0.90      0.85      0.88      1462\n",
      "           4       0.78      0.85      0.81      1430\n",
      "           5       0.96      0.95      0.95      1319\n",
      "           6       0.68      0.68      0.68      1410\n",
      "           7       0.93      0.95      0.94      1441\n",
      "           8       0.96      0.97      0.96      1378\n",
      "           9       0.96      0.95      0.95      1381\n",
      "\n",
      "    accuracy                           0.87     14000\n",
      "   macro avg       0.88      0.87      0.87     14000\n",
      "weighted avg       0.87      0.87      0.87     14000\n",
      "\n"
     ]
    }
   ],
   "source": [
    "#Jawaban ANN\n",
    "from sklearn.neural_network import MLPClassifier\n",
    "from sklearn.model_selection import train_test_split\n",
    "from sklearn.model_selection import GridSearchCV\n",
    "from sklearn.metrics import classification_report\n",
    "\n",
    "X_train, X_test, y_train, y_test = train_test_split(X, y, test_size = 0.2, random_state= 42)\n",
    "\n",
    "param_grid ={\n",
    "    'hidden_layer_sizes': [(100,150),(100,100)],\n",
    "    'activation': ['tanh', 'relu'],\n",
    "    'solver': ['sgd', 'adam'],\n",
    "    'alpha': [0.0001, 0.05],\n",
    "    'learning_rate': ['constant','adaptive'],\n",
    "}\n",
    "grid = GridSearchCV(MLPClassifier(max_iter = 1000), param_grid, cv=3, scoring='accuracy', refit = True, verbose = 3)\n",
    "grid.fit(X_train, y_train)\n",
    "\n",
    "print(grid.best_params_)\n",
    "print(grid.best_estimator_)\n",
    "y_predict = grid.predict(X_test)\n",
    "#{'activation': 'tanh', 'alpha': 0.05, 'hidden_layer_sizes': (100, 100), 'learning_rate': 'adaptive', 'solver': 'adam'}\n",
    "#MLPClassifier(activation='tanh', alpha=0.05, hidden_layer_sizes=(100, 100),learning_rate='adaptive',max_iter=1000)\n",
    "\n",
    "print(classification_report(y_test, y_predict))"
   ]
  },
  {
   "cell_type": "code",
   "execution_count": 6,
   "metadata": {},
   "outputs": [
    {
     "name": "stdout",
     "output_type": "stream",
     "text": [
      "              precision    recall  f1-score   support\n",
      "\n",
      "           0       0.68      0.80      0.74      1415\n",
      "           1       0.95      0.92      0.93      1365\n",
      "           2       0.75      0.48      0.59      1399\n",
      "           3       0.76      0.77      0.77      1462\n",
      "           4       0.65      0.77      0.70      1430\n",
      "           5       0.93      0.88      0.90      1319\n",
      "           6       0.49      0.50      0.49      1410\n",
      "           7       0.89      0.86      0.88      1441\n",
      "           8       0.93      0.92      0.92      1378\n",
      "           9       0.85      0.93      0.89      1381\n",
      "\n",
      "    accuracy                           0.78     14000\n",
      "   macro avg       0.79      0.78      0.78     14000\n",
      "weighted avg       0.79      0.78      0.78     14000\n",
      "\n"
     ]
    }
   ],
   "source": [
    "#best model ANN dataset awal\n",
    "from sklearn.neural_network import MLPClassifier\n",
    "from sklearn.metrics import classification_report\n",
    "\n",
    "mlp = MLPClassifier(activation='tanh', alpha=0.05, hidden_layer_sizes=(100, 100),learning_rate='adaptive',solver = 'adam', max_iter=1000, random_state = 0)\n",
    "mlp.fit(X_train, y_train)\n",
    "y_predict = mlp.predict(X_test)\n",
    "print(classification_report(y_test, y_predict))"
   ]
  },
  {
   "cell_type": "code",
   "execution_count": null,
   "metadata": {},
   "outputs": [],
   "source": [
    "#Decision Tree\n",
    "from sklearn.tree import DecisionTreeClassifier\n",
    "from sklearn.model_selection import train_test_split, GridSearchCV\n",
    "from sklearn.metrics import classification_report\n",
    "\n",
    "# Split data menjadi data training dan testing\n",
    "X_train, X_test, y_train, y_test = train_test_split(X, y, test_size=0.2, random_state=42)\n",
    "\n",
    "# Set hyperparameter untuk GridSearchCV\n",
    "param_grid = {\n",
    "    'max_depth': [10, 50, 100],\n",
    "    'min_samples_split': [2, 5, 10],\n",
    "    'min_samples_leaf': [1, 2, 4],\n",
    "    'criterion': ['gini', 'entropy']\n",
    "}\n",
    "\n",
    "# Membuat objek GridSearchCV\n",
    "grid = GridSearchCV(DecisionTreeClassifier(), param_grid, cv=3, scoring='accuracy', verbose=3)\n",
    "grid.fit(X_train, y_train)\n",
    "\n",
    "# Menampilkan parameter terbaik dan estimator terbaik\n",
    "print(grid.best_params_)\n",
    "print(grid.best_estimator_)\n",
    "\n",
    "# Memprediksi nilai menggunakan data testing\n",
    "y_predict = grid.predict(X_test)\n",
    "\n",
    "# Menampilkan classification report\n",
    "print(classification_report(y_test, y_predict))"
   ]
  },
  {
   "cell_type": "code",
   "execution_count": 8,
   "metadata": {},
   "outputs": [
    {
     "name": "stdout",
     "output_type": "stream",
     "text": [
      "              precision    recall  f1-score   support\n",
      "\n",
      "           0       0.77      0.78      0.78      1415\n",
      "           1       0.97      0.93      0.95      1365\n",
      "           2       0.68      0.70      0.69      1399\n",
      "           3       0.82      0.83      0.83      1462\n",
      "           4       0.64      0.77      0.70      1430\n",
      "           5       0.92      0.86      0.89      1319\n",
      "           6       0.60      0.47      0.53      1410\n",
      "           7       0.86      0.93      0.89      1441\n",
      "           8       0.93      0.92      0.93      1378\n",
      "           9       0.93      0.89      0.91      1381\n",
      "\n",
      "    accuracy                           0.81     14000\n",
      "   macro avg       0.81      0.81      0.81     14000\n",
      "weighted avg       0.81      0.81      0.81     14000\n",
      "\n"
     ]
    }
   ],
   "source": [
    "#best model Decision Tree dataset awal\n",
    "from sklearn.tree import DecisionTreeClassifier\n",
    "from sklearn.metrics import classification_report\n",
    "\n",
    "dt = DecisionTreeClassifier(max_depth=10, min_samples_split=2, min_samples_leaf=1, criterion='gini', random_state=0)\n",
    "dt.fit(X_train, y_train)\n",
    "y_predict = dt.predict(X_test)\n",
    "print(classification_report(y_test, y_predict))"
   ]
  },
  {
   "cell_type": "markdown",
   "metadata": {},
   "source": [
    "### C. Lakukan Dimentional Reduction dengan PCA sesuai dengan ketentuan pertanyaan masing-masing kelompok(30%)\n",
    "\n",
    "fitting dengan PCA ganti hyperparameter berapa variansi yang diinginkan atau komponen yang ingin dipertahankan sesuai ketentuan diatas."
   ]
  },
  {
   "cell_type": "markdown",
   "metadata": {},
   "source": [
    "1. Training dengan PCA"
   ]
  },
  {
   "cell_type": "code",
   "execution_count": 9,
   "metadata": {},
   "outputs": [],
   "source": [
    "#fitting dengan PCA ganti hyperparameter\n",
    "#Fitur yang dipertahankan 220, berapa persen variansinya?\n",
    "from sklearn.model_selection import train_test_split\n",
    "from sklearn.decomposition import PCA\n",
    "\n",
    "X_train, X_test, y_train, y_test = train_test_split(X, y, test_size = 0.2, random_state = 42)\n",
    "\n",
    "pca = PCA(n_components = 220)\n",
    "X_train_reduced = pca.fit_transform(X_train)"
   ]
  },
  {
   "cell_type": "markdown",
   "metadata": {},
   "source": [
    "2. Keluarkan berapa fitur yang dipertahankan atau berapa variance yang dipertahankan"
   ]
  },
  {
   "cell_type": "code",
   "execution_count": 10,
   "metadata": {},
   "outputs": [
    {
     "name": "stdout",
     "output_type": "stream",
     "text": [
      "(56000, 220)\n"
     ]
    }
   ],
   "source": [
    "#Jawaban\n",
    "print(X_train_reduced.shape)"
   ]
  },
  {
   "cell_type": "markdown",
   "metadata": {},
   "source": [
    "### D. Training kembali dengan menggunakan ANN dan DT untuk Kelompok ganjil atau  ANN dan SVM  untuk kelompok genap dengan dimesi feature data yang sudah direduce? (20%)\n",
    "\n",
    "Gunakan SVM dan ANN untuk metode klasifikasi.  Training data yang sudah di reduce lalu bandingkan hasil classifikasinya menggunakan pengukuran performace (accurasi,recall, presisi dan lain-lain). tunning hyperparameter berulang kali atau gunakan gridsearchCV."
   ]
  },
  {
   "cell_type": "code",
   "execution_count": 12,
   "metadata": {},
   "outputs": [
    {
     "name": "stdout",
     "output_type": "stream",
     "text": [
      "Fitting 3 folds for each of 32 candidates, totalling 96 fits\n",
      "[CV 1/3] END activation=tanh, alpha=0.0001, hidden_layer_sizes=(100, 150), learning_rate=constant, solver=sgd;, score=0.862 total time=  46.4s\n",
      "[CV 2/3] END activation=tanh, alpha=0.0001, hidden_layer_sizes=(100, 150), learning_rate=constant, solver=sgd;, score=0.861 total time=  59.3s\n",
      "[CV 3/3] END activation=tanh, alpha=0.0001, hidden_layer_sizes=(100, 150), learning_rate=constant, solver=sgd;, score=0.865 total time= 1.3min\n",
      "[CV 1/3] END activation=tanh, alpha=0.0001, hidden_layer_sizes=(100, 150), learning_rate=constant, solver=adam;, score=0.860 total time= 1.0min\n",
      "[CV 2/3] END activation=tanh, alpha=0.0001, hidden_layer_sizes=(100, 150), learning_rate=constant, solver=adam;, score=0.856 total time= 1.0min\n",
      "[CV 3/3] END activation=tanh, alpha=0.0001, hidden_layer_sizes=(100, 150), learning_rate=constant, solver=adam;, score=0.857 total time=  47.1s\n",
      "[CV 1/3] END activation=tanh, alpha=0.0001, hidden_layer_sizes=(100, 150), learning_rate=adaptive, solver=sgd;, score=0.866 total time= 4.2min\n",
      "[CV 2/3] END activation=tanh, alpha=0.0001, hidden_layer_sizes=(100, 150), learning_rate=adaptive, solver=sgd;, score=0.871 total time= 4.8min\n",
      "[CV 3/3] END activation=tanh, alpha=0.0001, hidden_layer_sizes=(100, 150), learning_rate=adaptive, solver=sgd;, score=0.862 total time= 3.9min\n",
      "[CV 1/3] END activation=tanh, alpha=0.0001, hidden_layer_sizes=(100, 150), learning_rate=adaptive, solver=adam;, score=0.856 total time= 1.1min\n",
      "[CV 2/3] END activation=tanh, alpha=0.0001, hidden_layer_sizes=(100, 150), learning_rate=adaptive, solver=adam;, score=0.857 total time= 1.1min\n",
      "[CV 3/3] END activation=tanh, alpha=0.0001, hidden_layer_sizes=(100, 150), learning_rate=adaptive, solver=adam;, score=0.852 total time= 1.2min\n",
      "[CV 1/3] END activation=tanh, alpha=0.0001, hidden_layer_sizes=(100, 100), learning_rate=constant, solver=sgd;, score=0.868 total time= 1.3min\n",
      "[CV 2/3] END activation=tanh, alpha=0.0001, hidden_layer_sizes=(100, 100), learning_rate=constant, solver=sgd;, score=0.865 total time=  55.9s\n",
      "[CV 3/3] END activation=tanh, alpha=0.0001, hidden_layer_sizes=(100, 100), learning_rate=constant, solver=sgd;, score=0.857 total time=  49.5s\n",
      "[CV 1/3] END activation=tanh, alpha=0.0001, hidden_layer_sizes=(100, 100), learning_rate=constant, solver=adam;, score=0.855 total time=  58.8s\n",
      "[CV 2/3] END activation=tanh, alpha=0.0001, hidden_layer_sizes=(100, 100), learning_rate=constant, solver=adam;, score=0.852 total time= 1.1min\n",
      "[CV 3/3] END activation=tanh, alpha=0.0001, hidden_layer_sizes=(100, 100), learning_rate=constant, solver=adam;, score=0.847 total time= 1.1min\n",
      "[CV 1/3] END activation=tanh, alpha=0.0001, hidden_layer_sizes=(100, 100), learning_rate=adaptive, solver=sgd;, score=0.863 total time= 4.7min\n",
      "[CV 2/3] END activation=tanh, alpha=0.0001, hidden_layer_sizes=(100, 100), learning_rate=adaptive, solver=sgd;, score=0.870 total time= 4.6min\n",
      "[CV 3/3] END activation=tanh, alpha=0.0001, hidden_layer_sizes=(100, 100), learning_rate=adaptive, solver=sgd;, score=0.858 total time= 3.2min\n",
      "[CV 1/3] END activation=tanh, alpha=0.0001, hidden_layer_sizes=(100, 100), learning_rate=adaptive, solver=adam;, score=0.856 total time=  56.5s\n",
      "[CV 2/3] END activation=tanh, alpha=0.0001, hidden_layer_sizes=(100, 100), learning_rate=adaptive, solver=adam;, score=0.855 total time=  55.0s\n",
      "[CV 3/3] END activation=tanh, alpha=0.0001, hidden_layer_sizes=(100, 100), learning_rate=adaptive, solver=adam;, score=0.858 total time=  40.8s\n",
      "[CV 1/3] END activation=tanh, alpha=0.05, hidden_layer_sizes=(100, 150), learning_rate=constant, solver=sgd;, score=0.869 total time= 1.3min\n",
      "[CV 2/3] END activation=tanh, alpha=0.05, hidden_layer_sizes=(100, 150), learning_rate=constant, solver=sgd;, score=0.868 total time= 1.2min\n",
      "[CV 3/3] END activation=tanh, alpha=0.05, hidden_layer_sizes=(100, 150), learning_rate=constant, solver=sgd;, score=0.861 total time=  54.8s\n",
      "[CV 1/3] END activation=tanh, alpha=0.05, hidden_layer_sizes=(100, 150), learning_rate=constant, solver=adam;, score=0.869 total time= 1.1min\n",
      "[CV 2/3] END activation=tanh, alpha=0.05, hidden_layer_sizes=(100, 150), learning_rate=constant, solver=adam;, score=0.871 total time=  51.8s\n",
      "[CV 3/3] END activation=tanh, alpha=0.05, hidden_layer_sizes=(100, 150), learning_rate=constant, solver=adam;, score=0.867 total time= 1.0min\n",
      "[CV 1/3] END activation=tanh, alpha=0.05, hidden_layer_sizes=(100, 150), learning_rate=adaptive, solver=sgd;, score=0.868 total time= 3.8min\n",
      "[CV 2/3] END activation=tanh, alpha=0.05, hidden_layer_sizes=(100, 150), learning_rate=adaptive, solver=sgd;, score=0.873 total time= 5.1min\n",
      "[CV 3/3] END activation=tanh, alpha=0.05, hidden_layer_sizes=(100, 150), learning_rate=adaptive, solver=sgd;, score=0.869 total time= 3.1min\n",
      "[CV 1/3] END activation=tanh, alpha=0.05, hidden_layer_sizes=(100, 150), learning_rate=adaptive, solver=adam;, score=0.866 total time=  31.7s\n",
      "[CV 2/3] END activation=tanh, alpha=0.05, hidden_layer_sizes=(100, 150), learning_rate=adaptive, solver=adam;, score=0.866 total time=  54.6s\n",
      "[CV 3/3] END activation=tanh, alpha=0.05, hidden_layer_sizes=(100, 150), learning_rate=adaptive, solver=adam;, score=0.866 total time=  48.2s\n",
      "[CV 1/3] END activation=tanh, alpha=0.05, hidden_layer_sizes=(100, 100), learning_rate=constant, solver=sgd;, score=0.860 total time=  30.6s\n",
      "[CV 2/3] END activation=tanh, alpha=0.05, hidden_layer_sizes=(100, 100), learning_rate=constant, solver=sgd;, score=0.867 total time=  50.0s\n",
      "[CV 3/3] END activation=tanh, alpha=0.05, hidden_layer_sizes=(100, 100), learning_rate=constant, solver=sgd;, score=0.860 total time=  42.0s\n",
      "[CV 1/3] END activation=tanh, alpha=0.05, hidden_layer_sizes=(100, 100), learning_rate=constant, solver=adam;, score=0.862 total time=  39.7s\n",
      "[CV 2/3] END activation=tanh, alpha=0.05, hidden_layer_sizes=(100, 100), learning_rate=constant, solver=adam;, score=0.867 total time=  34.8s\n",
      "[CV 3/3] END activation=tanh, alpha=0.05, hidden_layer_sizes=(100, 100), learning_rate=constant, solver=adam;, score=0.867 total time=  37.8s\n",
      "[CV 1/3] END activation=tanh, alpha=0.05, hidden_layer_sizes=(100, 100), learning_rate=adaptive, solver=sgd;, score=0.865 total time= 2.1min\n",
      "[CV 2/3] END activation=tanh, alpha=0.05, hidden_layer_sizes=(100, 100), learning_rate=adaptive, solver=sgd;, score=0.869 total time= 3.2min\n",
      "[CV 3/3] END activation=tanh, alpha=0.05, hidden_layer_sizes=(100, 100), learning_rate=adaptive, solver=sgd;, score=0.869 total time= 2.4min\n",
      "[CV 1/3] END activation=tanh, alpha=0.05, hidden_layer_sizes=(100, 100), learning_rate=adaptive, solver=adam;, score=0.865 total time=  37.2s\n",
      "[CV 2/3] END activation=tanh, alpha=0.05, hidden_layer_sizes=(100, 100), learning_rate=adaptive, solver=adam;, score=0.869 total time=  38.3s\n",
      "[CV 3/3] END activation=tanh, alpha=0.05, hidden_layer_sizes=(100, 100), learning_rate=adaptive, solver=adam;, score=0.865 total time=  52.2s\n",
      "[CV 1/3] END activation=relu, alpha=0.0001, hidden_layer_sizes=(100, 150), learning_rate=constant, solver=sgd;, score=0.858 total time= 1.4min\n",
      "[CV 2/3] END activation=relu, alpha=0.0001, hidden_layer_sizes=(100, 150), learning_rate=constant, solver=sgd;, score=0.856 total time=  57.7s\n",
      "[CV 3/3] END activation=relu, alpha=0.0001, hidden_layer_sizes=(100, 150), learning_rate=constant, solver=sgd;, score=0.853 total time= 1.1min\n",
      "[CV 1/3] END activation=relu, alpha=0.0001, hidden_layer_sizes=(100, 150), learning_rate=constant, solver=adam;, score=0.862 total time=  34.1s\n",
      "[CV 2/3] END activation=relu, alpha=0.0001, hidden_layer_sizes=(100, 150), learning_rate=constant, solver=adam;, score=0.868 total time=  25.1s\n",
      "[CV 3/3] END activation=relu, alpha=0.0001, hidden_layer_sizes=(100, 150), learning_rate=constant, solver=adam;, score=0.863 total time=  30.2s\n",
      "[CV 1/3] END activation=relu, alpha=0.0001, hidden_layer_sizes=(100, 150), learning_rate=adaptive, solver=sgd;, score=0.855 total time= 3.1min\n",
      "[CV 2/3] END activation=relu, alpha=0.0001, hidden_layer_sizes=(100, 150), learning_rate=adaptive, solver=sgd;, score=0.861 total time= 2.4min\n",
      "[CV 3/3] END activation=relu, alpha=0.0001, hidden_layer_sizes=(100, 150), learning_rate=adaptive, solver=sgd;, score=0.857 total time= 2.5min\n",
      "[CV 1/3] END activation=relu, alpha=0.0001, hidden_layer_sizes=(100, 150), learning_rate=adaptive, solver=adam;, score=0.855 total time=  18.0s\n",
      "[CV 2/3] END activation=relu, alpha=0.0001, hidden_layer_sizes=(100, 150), learning_rate=adaptive, solver=adam;, score=0.864 total time=  37.5s\n",
      "[CV 3/3] END activation=relu, alpha=0.0001, hidden_layer_sizes=(100, 150), learning_rate=adaptive, solver=adam;, score=0.861 total time=  22.5s\n",
      "[CV 1/3] END activation=relu, alpha=0.0001, hidden_layer_sizes=(100, 100), learning_rate=constant, solver=sgd;, score=0.860 total time= 1.7min\n",
      "[CV 2/3] END activation=relu, alpha=0.0001, hidden_layer_sizes=(100, 100), learning_rate=constant, solver=sgd;, score=0.861 total time= 1.3min\n",
      "[CV 3/3] END activation=relu, alpha=0.0001, hidden_layer_sizes=(100, 100), learning_rate=constant, solver=sgd;, score=0.862 total time= 1.1min\n",
      "[CV 1/3] END activation=relu, alpha=0.0001, hidden_layer_sizes=(100, 100), learning_rate=constant, solver=adam;, score=0.864 total time=  29.7s\n",
      "[CV 2/3] END activation=relu, alpha=0.0001, hidden_layer_sizes=(100, 100), learning_rate=constant, solver=adam;, score=0.857 total time=  18.7s\n",
      "[CV 3/3] END activation=relu, alpha=0.0001, hidden_layer_sizes=(100, 100), learning_rate=constant, solver=adam;, score=0.859 total time=  16.1s\n",
      "[CV 1/3] END activation=relu, alpha=0.0001, hidden_layer_sizes=(100, 100), learning_rate=adaptive, solver=sgd;, score=0.861 total time= 2.1min\n",
      "[CV 2/3] END activation=relu, alpha=0.0001, hidden_layer_sizes=(100, 100), learning_rate=adaptive, solver=sgd;, score=0.861 total time= 2.2min\n",
      "[CV 3/3] END activation=relu, alpha=0.0001, hidden_layer_sizes=(100, 100), learning_rate=adaptive, solver=sgd;, score=0.857 total time= 2.0min\n",
      "[CV 1/3] END activation=relu, alpha=0.0001, hidden_layer_sizes=(100, 100), learning_rate=adaptive, solver=adam;, score=0.858 total time=  19.1s\n",
      "[CV 2/3] END activation=relu, alpha=0.0001, hidden_layer_sizes=(100, 100), learning_rate=adaptive, solver=adam;, score=0.858 total time=  17.4s\n",
      "[CV 3/3] END activation=relu, alpha=0.0001, hidden_layer_sizes=(100, 100), learning_rate=adaptive, solver=adam;, score=0.856 total time=  21.5s\n",
      "[CV 1/3] END activation=relu, alpha=0.05, hidden_layer_sizes=(100, 150), learning_rate=constant, solver=sgd;, score=0.859 total time= 1.5min\n",
      "[CV 2/3] END activation=relu, alpha=0.05, hidden_layer_sizes=(100, 150), learning_rate=constant, solver=sgd;, score=0.858 total time= 1.3min\n",
      "[CV 3/3] END activation=relu, alpha=0.05, hidden_layer_sizes=(100, 150), learning_rate=constant, solver=sgd;, score=0.855 total time= 1.4min\n",
      "[CV 1/3] END activation=relu, alpha=0.05, hidden_layer_sizes=(100, 150), learning_rate=constant, solver=adam;, score=0.865 total time=  25.0s\n",
      "[CV 2/3] END activation=relu, alpha=0.05, hidden_layer_sizes=(100, 150), learning_rate=constant, solver=adam;, score=0.860 total time=  21.3s\n",
      "[CV 3/3] END activation=relu, alpha=0.05, hidden_layer_sizes=(100, 150), learning_rate=constant, solver=adam;, score=0.860 total time=  40.0s\n",
      "[CV 1/3] END activation=relu, alpha=0.05, hidden_layer_sizes=(100, 150), learning_rate=adaptive, solver=sgd;, score=0.858 total time= 2.1min\n",
      "[CV 2/3] END activation=relu, alpha=0.05, hidden_layer_sizes=(100, 150), learning_rate=adaptive, solver=sgd;, score=0.862 total time= 2.2min\n",
      "[CV 3/3] END activation=relu, alpha=0.05, hidden_layer_sizes=(100, 150), learning_rate=adaptive, solver=sgd;, score=0.862 total time= 1.9min\n",
      "[CV 1/3] END activation=relu, alpha=0.05, hidden_layer_sizes=(100, 150), learning_rate=adaptive, solver=adam;, score=0.858 total time=  23.2s\n",
      "[CV 2/3] END activation=relu, alpha=0.05, hidden_layer_sizes=(100, 150), learning_rate=adaptive, solver=adam;, score=0.865 total time=  31.8s\n",
      "[CV 3/3] END activation=relu, alpha=0.05, hidden_layer_sizes=(100, 150), learning_rate=adaptive, solver=adam;, score=0.865 total time=  32.8s\n",
      "[CV 1/3] END activation=relu, alpha=0.05, hidden_layer_sizes=(100, 100), learning_rate=constant, solver=sgd;, score=0.865 total time= 1.2min\n",
      "[CV 2/3] END activation=relu, alpha=0.05, hidden_layer_sizes=(100, 100), learning_rate=constant, solver=sgd;, score=0.859 total time= 1.0min\n",
      "[CV 3/3] END activation=relu, alpha=0.05, hidden_layer_sizes=(100, 100), learning_rate=constant, solver=sgd;, score=0.856 total time= 1.2min\n",
      "[CV 1/3] END activation=relu, alpha=0.05, hidden_layer_sizes=(100, 100), learning_rate=constant, solver=adam;, score=0.859 total time=  20.6s\n",
      "[CV 2/3] END activation=relu, alpha=0.05, hidden_layer_sizes=(100, 100), learning_rate=constant, solver=adam;, score=0.858 total time=  18.5s\n",
      "[CV 3/3] END activation=relu, alpha=0.05, hidden_layer_sizes=(100, 100), learning_rate=constant, solver=adam;, score=0.859 total time=  30.5s\n",
      "[CV 1/3] END activation=relu, alpha=0.05, hidden_layer_sizes=(100, 100), learning_rate=adaptive, solver=sgd;, score=0.859 total time= 2.5min\n",
      "[CV 2/3] END activation=relu, alpha=0.05, hidden_layer_sizes=(100, 100), learning_rate=adaptive, solver=sgd;, score=0.863 total time= 2.9min\n",
      "[CV 3/3] END activation=relu, alpha=0.05, hidden_layer_sizes=(100, 100), learning_rate=adaptive, solver=sgd;, score=0.857 total time= 2.5min\n",
      "[CV 1/3] END activation=relu, alpha=0.05, hidden_layer_sizes=(100, 100), learning_rate=adaptive, solver=adam;, score=0.865 total time=  28.6s\n",
      "[CV 2/3] END activation=relu, alpha=0.05, hidden_layer_sizes=(100, 100), learning_rate=adaptive, solver=adam;, score=0.857 total time=  26.0s\n",
      "[CV 3/3] END activation=relu, alpha=0.05, hidden_layer_sizes=(100, 100), learning_rate=adaptive, solver=adam;, score=0.856 total time=  25.3s\n",
      "{'activation': 'tanh', 'alpha': 0.05, 'hidden_layer_sizes': (100, 150), 'learning_rate': 'adaptive', 'solver': 'sgd'}\n",
      "MLPClassifier(activation='tanh', alpha=0.05, hidden_layer_sizes=(100, 150),\n",
      "              learning_rate='adaptive', max_iter=1000, solver='sgd')\n",
      "              precision    recall  f1-score   support\n",
      "\n",
      "           0       0.77      0.84      0.80      1415\n",
      "           1       0.98      0.97      0.98      1365\n",
      "           2       0.80      0.77      0.78      1399\n",
      "           3       0.88      0.88      0.88      1462\n",
      "           4       0.77      0.83      0.80      1430\n",
      "           5       0.95      0.94      0.94      1319\n",
      "           6       0.70      0.62      0.66      1410\n",
      "           7       0.93      0.95      0.94      1441\n",
      "           8       0.97      0.95      0.96      1378\n",
      "           9       0.95      0.94      0.94      1381\n",
      "\n",
      "    accuracy                           0.87     14000\n",
      "   macro avg       0.87      0.87      0.87     14000\n",
      "weighted avg       0.87      0.87      0.87     14000\n",
      "\n"
     ]
    }
   ],
   "source": [
    "#ANN\n",
    "from sklearn.neural_network import MLPClassifier\n",
    "from sklearn.model_selection import train_test_split\n",
    "from sklearn.model_selection import GridSearchCV\n",
    "from sklearn.metrics import classification_report\n",
    "\n",
    "param_grid ={\n",
    "    'hidden_layer_sizes': [(100,150),(100,100)],\n",
    "    'activation': ['tanh', 'relu'],\n",
    "    'solver': ['sgd', 'adam'],\n",
    "    'alpha': [0.0001, 0.05],\n",
    "    'learning_rate': ['constant','adaptive'],\n",
    "}\n",
    "grid = GridSearchCV(MLPClassifier(max_iter = 1000), param_grid, cv=3, scoring='accuracy', refit = True, verbose = 3)\n",
    "grid.fit(X_train_reduced, y_train)\n",
    "\n",
    "print(grid.best_params_)\n",
    "print(grid.best_estimator_)\n",
    "X_test_reduced = pca.transform(X_test)\n",
    "y_pred = grid.predict(X_test_reduced)\n",
    "#{'activation': 'relu', 'alpha': 0.0001, 'hidden_layer_sizes': (100, 150), 'learning_rate': 'adaptive', 'solver': 'sgd'}\n",
    "#MLPClassifier(hidden_layer_sizes=(100, 150), learning_rate='adaptive', max_iter=1000, solver='sgd')\n",
    "#accuracy = 87%\n",
    "\n",
    "print(classification_report(y_test, y_predict))"
   ]
  },
  {
   "cell_type": "code",
   "execution_count": 14,
   "metadata": {},
   "outputs": [
    {
     "name": "stdout",
     "output_type": "stream",
     "text": [
      "              precision    recall  f1-score   support\n",
      "\n",
      "           0       0.81      0.77      0.79      1415\n",
      "           1       0.97      0.97      0.97      1365\n",
      "           2       0.78      0.77      0.77      1399\n",
      "           3       0.86      0.87      0.87      1462\n",
      "           4       0.78      0.79      0.78      1430\n",
      "           5       0.94      0.94      0.94      1319\n",
      "           6       0.66      0.68      0.67      1410\n",
      "           7       0.94      0.94      0.94      1441\n",
      "           8       0.95      0.95      0.95      1378\n",
      "           9       0.95      0.95      0.95      1381\n",
      "\n",
      "    accuracy                           0.86     14000\n",
      "   macro avg       0.86      0.86      0.86     14000\n",
      "weighted avg       0.86      0.86      0.86     14000\n",
      "\n"
     ]
    }
   ],
   "source": [
    "#best model ANN dataset setelah direduce\n",
    "from sklearn.neural_network import MLPClassifier\n",
    "from sklearn.metrics import classification_report\n",
    "\n",
    "mlp = MLPClassifier(activation='relu', alpha=0.0001, hidden_layer_sizes=(100, 150),learning_rate='adaptive',solver= 'sgd', max_iter=1000, random_state = 42)\n",
    "mlp.fit(X_train_reduced, y_train)\n",
    "X_test_reduced = pca.transform(X_test)\n",
    "y_predict = mlp.predict(X_test_reduced)\n",
    "\n",
    "print(classification_report(y_test, y_predict))"
   ]
  },
  {
   "cell_type": "code",
   "execution_count": null,
   "metadata": {},
   "outputs": [],
   "source": [
    "#Decision Tree\n",
    "from sklearn.tree import DecisionTreeClassifier\n",
    "from sklearn.model_selection import train_test_split, GridSearchCV\n",
    "from sklearn.metrics import classification_report\n",
    "\n",
    "# Split data menjadi data training dan testing\n",
    "X_train, X_test, y_train, y_test = train_test_split(X, y, test_size=0.2, random_state=42)\n",
    "\n",
    "# Set hyperparameter untuk GridSearchCV\n",
    "param_grid = {\n",
    "    'max_depth': [10, 50, 100],\n",
    "    'min_samples_split': [2, 5, 10],\n",
    "    'min_samples_leaf': [1, 2, 4],\n",
    "    'criterion': ['gini', 'entropy']\n",
    "}\n",
    "\n",
    "# Membuat objek GridSearchCV\n",
    "grid = GridSearchCV(DecisionTreeClassifier(), param_grid, cv=3, scoring='accuracy', verbose=3)\n",
    "grid.fit(X_train, y_train)\n",
    "\n",
    "# Menampilkan parameter terbaik dan estimator terbaik\n",
    "print(grid.best_params_)\n",
    "print(grid.best_estimator_)\n",
    "\n",
    "# Memprediksi nilai menggunakan data testing\n",
    "X_test_reduced = pca.transform(X_test)\n",
    "y_predict = grid.predict(X_test)\n",
    "\n",
    "# Menampilkan classification report\n",
    "print(classification_report(y_test, y_predict))\n"
   ]
  },
  {
   "cell_type": "code",
   "execution_count": 18,
   "metadata": {},
   "outputs": [
    {
     "name": "stdout",
     "output_type": "stream",
     "text": [
      "              precision    recall  f1-score   support\n",
      "\n",
      "           0       0.77      0.78      0.78      1415\n",
      "           1       0.97      0.93      0.95      1365\n",
      "           2       0.68      0.70      0.69      1399\n",
      "           3       0.82      0.83      0.83      1462\n",
      "           4       0.64      0.77      0.70      1430\n",
      "           5       0.92      0.86      0.89      1319\n",
      "           6       0.60      0.47      0.53      1410\n",
      "           7       0.86      0.93      0.89      1441\n",
      "           8       0.93      0.92      0.93      1378\n",
      "           9       0.93      0.89      0.91      1381\n",
      "\n",
      "    accuracy                           0.81     14000\n",
      "   macro avg       0.81      0.81      0.81     14000\n",
      "weighted avg       0.81      0.81      0.81     14000\n",
      "\n"
     ]
    }
   ],
   "source": [
    "#best model Decision Tree dataset awal\n",
    "from sklearn.tree import DecisionTreeClassifier\n",
    "from sklearn.metrics import classification_report\n",
    "\n",
    "dt = DecisionTreeClassifier(max_depth=10, min_samples_split=2, min_samples_leaf=1, criterion='gini', random_state=0)\n",
    "dt.fit(X_train, y_train)\n",
    "X_test_reduced = pca.transform(X_test)\n",
    "y_predict = dt.predict(X_test)\n",
    "print(classification_report(y_test, y_predict))"
   ]
  },
  {
   "cell_type": "markdown",
   "metadata": {},
   "source": [
    "#### E. (Analisis)Perbandingan kedua model dari 2 dataset (No B dan No D) dengan pengukuran performace (accurasi,recall, presisi dan lain-lain).(30%)\n",
    "\n",
    "Bandingkan apakah ada efek dari pengurangan dimensi yang dilakukan dengan PCA."
   ]
  },
  {
   "cell_type": "markdown",
   "metadata": {},
   "source": [
    "# JAWAB\n",
    "Perbandingan antara kedua model dari 2 dataset bagian B dan D, terdapat beberapa efek dari pengurangan dimensi yang dilakukan PCA\n",
    "\n",
    "a) Untuk model ANN sebelum direduksi PCA, peforma rata-rata dari precision, recall, f1-score memiliki persentase sekitar 87%. Setelah dikurangi dimensinya  \n",
    "didapat performa rata-rata yaitu 88%. Pada ANN, performa setelah direduksi naik 1%. Saat diuji, waktu yang dibutuhkan untuk me-run ANN sebelum reduksi   \n",
    "memakan waktu sekitar 3 menit, dan setelah direduksi hanya memakan waktu sekitar 35 detik dan konsisten. Perbedaan setelah direduksi cukup signifikan   \n",
    "sehingga dapat menghemat waktu\n",
    "\n",
    "b) Pada model DT sebelum direduksi PCA, peforma rata-rata dari precision, recall, f1-score memiliki persentase sekitar 81%. Setelah dikurangi dimensinya  \n",
    "didapat performa rata-rata yaitu 78%. Pada DT, performa setelah direduksi mengalami penurunan yaitu 3%. Saat diuji, waktu yang dibutuhkan untuk   \n",
    "me-run DT sebelum reduksi memakan waktu hanya 16 detik, dan setelah direduksi memakan waktu sekitar 34 detik. Walau waktu yang digunakan sedikit   \n",
    "lebih lama, waktu setelah direduksi tidak beda jauh dengan ANN yang telah dikurangi dimensinya\n",
    "\n",
    "c) Kesimpulannya, dengan melakukan proses reduksi pada dataset, kami dapat mendapatkan hasil yang lebih baik dengan mempertahankan fitur sebanyak 220, jumlah fitur yang dipertahankan berkurang signifikan (dari 784 fitur menjadi 220 fitur). Dengan fitur yang berkurang, proses training juga dapat berjalan lebih cepat tanpa mengurangi hasil akurasi yang didapat secara signifikan."
   ]
  }
 ],
 "metadata": {
  "kernelspec": {
   "display_name": "base",
   "language": "python",
   "name": "python3"
  },
  "language_info": {
   "codemirror_mode": {
    "name": "ipython",
    "version": 3
   },
   "file_extension": ".py",
   "mimetype": "text/x-python",
   "name": "python",
   "nbconvert_exporter": "python",
   "pygments_lexer": "ipython3",
   "version": "3.12.4"
  }
 },
 "nbformat": 4,
 "nbformat_minor": 2
}
