{
 "cells": [
  {
   "cell_type": "markdown",
   "metadata": {},
   "source": [
    "## **Tugas Besar Pengganti Ujian Akhir Semester (UAS), Semester Genap 2023/2024**\n",
    "### Deadline: Jumat, 14 Juni 2024, Jam 15.00\n",
    "##### Dosen:  DKT,ITQ"
   ]
  },
  {
   "cell_type": "markdown",
   "metadata": {},
   "source": [
    "---\n",
    "***'Dengan ini kami menyatakan bahwa tugas ini dibuat sebenar-benarnya hasil kerjasama kami dalam kelompok. Kami menjunjung tinggi aspek kejujuran sehingga kami dapat pastikan hasil ini bukan berasal dari meniru/mencontek/meminta hasil/berdiskusi dengan kelompok lain, baik dalam satu kelas yang sama maupun berbeda'***\n",
    "\n",
    "---\n",
    "Bandung, .... Januari 2024\n",
    "\n",
    "> Kelompok: ...........\n",
    ">\n",
    "> Anggota:\n",
    "> 1. Nama Lengkap, NIM, kontribusi terhadap pekerjaan (dalam %)\n",
    "> 2. Nama Lengkap, NIM, kontribusi terhadap pekerjaan (dalam %)\n",
    "> 3. ...\n",
    "> 4. ....\n",
    "\n",
    "Contoh:\n",
    "1. Yan LeCun, 07760017, 40% \n",
    "2. Yoshua Bengio, 08670018, 30%\n",
    "3. David Silver, 00980017, 30%\n",
    "\n",
    "Total 100%"
   ]
  },
  {
   "cell_type": "markdown",
   "metadata": {},
   "source": [
    "### **Penjelasan (harus dibaca dan dimengerti)**:\n",
    "* Tugas besar harus dikerjakan menggunakan bahasa pemrograman `Python` dan *library* `Scikit-Learn`. \n",
    "* Pada setiap bagian jawaban, anda bisa menambahkan cell `code` untuk kode maupun cell `Markdown` untuk penjelasan, sesuai dengan kebutuhan masing-masing.\n",
    "* Dikumpulkan sesuai dengan tenggat waktu, setiap keterlambatan akan diberikan hukuman pengurangan 10 poin setiap kelipatan 15 menit.\n",
    "* Dikerjakan dengan `Jupyter Lab` atau `Jupyter Notebook`, dan dikumpulkan dalam bentuk file dengan extension `.ipynb` yang digunakan pada `Jupyter Notebook/Jupyter Lab` (tidak boleh dalam format lain)"
   ]
  },
  {
   "cell_type": "markdown",
   "metadata": {},
   "source": [
    "## 1. Support Vektor Machine (SVM) Regresi (20%)"
   ]
  },
  {
   "cell_type": "markdown",
   "metadata": {},
   "source": [
    "Generate data dari dengan mengganti NoKelompok dengan nomer kelompok masing-masing dan Jumlah dataset dengan perkalian digit terakhir dari nim semua anggota dikalikan 10. Contoh Tim 1 dengan angka terakhir dari NIM 110101012, 110101014, 110101016 adalah 2, 4, 6 sehingga 2x4x6x10 = 480 untuk variable Jumlah. \n",
    "\n",
    "#### Code dataset kelompok ganjil\n",
    "import numpy as np\\\n",
    "import matplotlib.pyplot as plt\\\n",
    "np.random.seed(42)\\\n",
    "NoKelompok = 1 # Kelompok 1\\\n",
    "Jumlah = 480 #kalikan semua nim terakhir\\\n",
    "X = 2 * np.random.rand(Jumlah, 1)\\\n",
    "y = (4 +  np.power(X,int(NoKelompok/2)+1) + np.random.randn(Jumlah, 1)).ravel()\\\n",
    "\n",
    "#### Code dataset kelompok genap\n",
    "import numpy as np\\\n",
    "import matplotlib.pyplot as plt\\\n",
    "np.random.seed(42)\\\n",
    "NoKelompok = 4 # Kelompok 1\\\n",
    "Jumlah = 480 #kalikan semua nim terakhir\\\n",
    "X = 2 * np.random.rand(Jumlah, 1)\\\n",
    "y = (4 -  np.power(X,int(NoKelompok/2)+1) + np.random.randn(Jumlah, 1)).ravel()"
   ]
  },
  {
   "cell_type": "markdown",
   "metadata": {},
   "source": [
    "Petunjuk pengerjaan:\n",
    "1. Gunakan dataset tersebut untuk memprediksi nilai keluaran y dengan menggunakan SVM regresi. \n",
    "2. Sesuaikan model SVM Regresi diatas apakan linier atau non linier dan tuning nilai epsilon untuk menentukan lebar jalur SVM untuk menyesuaikan keluaran regresi yang dihasilkan.\n",
    "3. Gunakan parameter r2, RMS, MSE untuk menentukan model terbaik."
   ]
  },
  {
   "cell_type": "markdown",
   "metadata": {},
   "source": [
    "### A. Generate  dataset sesuai ketentuan diatas."
   ]
  },
  {
   "cell_type": "markdown",
   "metadata": {},
   "source": [
    "1. Generate dataset"
   ]
  },
  {
   "cell_type": "code",
   "execution_count": 71,
   "metadata": {},
   "outputs": [],
   "source": [
    "import numpy as np\n",
    "import matplotlib.pyplot as plt\n",
    "\n",
    "#ini untuk kelompok ganjil untuk genap ganti sesuai ketentuan diatas\n",
    "np.random.seed(42)\n",
    "NoKelompok = 1 # Ganti dengan nomer kelompok\n",
    "Jumlah = 480 # Ganti dengan perkalian semua nim terakhir x 10\n",
    "X = 2 * np.random.rand(Jumlah, 1)\n",
    "y = (4 +  np.power(X,int(NoKelompok/2)+1) + np.random.randn(Jumlah, 1)).ravel()\n"
   ]
  },
  {
   "cell_type": "markdown",
   "metadata": {},
   "source": [
    "2. ploting data X dan y dengan menggunakan style scatter dan berikan keterangan label x dan y diplotingnya."
   ]
  },
  {
   "cell_type": "code",
   "execution_count": 72,
   "metadata": {},
   "outputs": [],
   "source": [
    "import matplotlib.pyplot\n",
    "\n",
    "#lengkapi dengan ketentuan soal diatas"
   ]
  },
  {
   "cell_type": "markdown",
   "metadata": {},
   "source": [
    "### B. Training dengan model SVM Regresi"
   ]
  },
  {
   "cell_type": "markdown",
   "metadata": {},
   "source": [
    "1. Model SVM Regresi linier "
   ]
  },
  {
   "cell_type": "code",
   "execution_count": 73,
   "metadata": {},
   "outputs": [],
   "source": [
    "from sklearn.svm import SVR\n",
    "#Regresi SVM Linier\n",
    "#Import library metode machine learning.\n",
    "\n",
    "\n",
    "#split data training dan testing\n",
    "\n",
    "#Gunakan data trainig untuk fitting dan data testing untuk ukuran kinerja.\n",
    "#Training dengan menggunakan metode Regresi SVM. \n",
    "#Lakukan berulang kali process fitting dengan mengganti hyperparameter epsilon dan kernel linier (atau gunakan gridSearchCV)\n",
    "#kemudian mengukur kinerjanya sehingga mendapatkan model terbaik regresi linier.\n",
    "#ukur kinerja setiap model pada setiap trainig dengan MSE,RMSE, R2."
   ]
  },
  {
   "cell_type": "markdown",
   "metadata": {},
   "source": [
    "2. Model SVM Regresi Polynomial "
   ]
  },
  {
   "cell_type": "code",
   "execution_count": 74,
   "metadata": {},
   "outputs": [],
   "source": [
    "from sklearn.svm import SVR\n",
    "#Regresi SVM non Linier\n",
    "#Import library metode machine learning.\n",
    "\n",
    "\n",
    "#split data training dan testing\n",
    "\n",
    "#Gunakan data trainig untuk fitting dan data testing untuk ukuran kinerja.\n",
    "#Training dengan menggunakan metode Regresi SVM. \n",
    "#Lakukan berulang kali process fitting dengan mengganti hyperparameter kernel poly, orde dan epsilon (atau gunakan gridSearchCV)\n",
    "#kemudian mengukur kinerjanya sehingga mendapatkan model terbaik regresi.\n",
    "#ukur kinerja setiap model pada setiap trainig dengan MSE,RMSE, R2."
   ]
  },
  {
   "cell_type": "markdown",
   "metadata": {},
   "source": [
    "### C. Analisis Hasil Training"
   ]
  },
  {
   "cell_type": "markdown",
   "metadata": {},
   "source": [
    "1. Tentukan **metode dan hyperparameter** mana yang yang paling bagus untuk setiap percobaan SVM Regresi?"
   ]
  },
  {
   "cell_type": "markdown",
   "metadata": {},
   "source": [
    "Jawaban.."
   ]
  },
  {
   "cell_type": "markdown",
   "metadata": {},
   "source": [
    "2. Analisi seluruh hasil percobaan diatas apakah data yang ditraining linier dan non linier. "
   ]
  },
  {
   "cell_type": "markdown",
   "metadata": {},
   "source": [
    "Jawaban.."
   ]
  },
  {
   "cell_type": "markdown",
   "metadata": {},
   "source": [
    "## 2. Support Vektor Machine (SVM) Klasifikasi (20%)"
   ]
  },
  {
   "cell_type": "markdown",
   "metadata": {},
   "source": [
    "## Ketentuan dataset \n",
    "\n",
    "### Generate sample data\n",
    "\n",
    "generate dataset sesuai dengan ketentuan nomer kelompok masing-masing:\n",
    "1. Kelompok 1 -> \n",
    "    X, y =make_moons(200, noise=0.3, random_state=100)\n",
    "2. Kelompok 2 -> \n",
    "    X, y = make_blobs(n_samples=400, centers=2, cluster_std=[1.0, 1.5], random_state=100)\n",
    "3. Kelompok 3 -> # Generate sample data\n",
    "    centers = [[1, 1], [-1, -1]]\n",
    "    X, y = make_blobs(n_samples=750, centers=centers, cluster_std=0.4,random_state=0)\n",
    "4. Kelompok 4 -> \n",
    "    centers = [[1, 1], [1, -1]]\n",
    "    X, y = make_blobs(n_samples=750, centers=centers, cluster_std=0.4,random_state=0)\n",
    "5. Kelompok 5 ->\n",
    "    centers = [[1, 1], [1, 3]]\n",
    "    X, y = make_blobs(n_samples=750, centers=centers, cluster_std=0.5,random_state=0)\n",
    "6. Kelompok 6 ->\n",
    "    centers = [[1, 1], [-1, 1]]\n",
    "    X, y = make_blobs(n_samples=750, centers=centers, cluster_std=0.5,random_state=0)\n",
    "7. Kelompok 7 ->\n",
    "    centers = [[1, 1], [1, -1]]\n",
    "    X, y = make_blobs(n_samples=750, centers=centers, cluster_std=0.2, random_state=0)\n",
    "8. Kelompok 8 ->\n",
    "    X, y = make_circles(n_samples=750, noise=0.02)\n",
    "9. Kelompok 9 ->\n",
    "    X, y =make_moons(200, noise=0.5, random_state=100)\n",
    "10. Kelompok 10 ->\n",
    "    X, y =make_moons(200, noise=0.5, random_state=150)\n",
    "11. Kelompok 11 ->\n",
    "    X, y = make_circles(n_samples=750, noise=0.06)\n",
    "12. Kelompok 12 ->\n",
    "    X, y = make_circles(n_samples=750, noise=0.09)\n",
    "13. Kelompok 13 ->\n",
    "    centers = [[1, 1],  [-1, 1]]\n",
    "    X, y = make_blobs(n_samples=750, centers=centers, cluster_std=0.2, random_state=0)\n",
    "14. Kelompok 14 ->    \n",
    "    X, y =make_moons(200, noise=0.5, random_state=200)\n",
    "15. Kelompok 15 ->    \n",
    "    X, y = make_blobs(n_samples=400, centers=2, cluster_std=[1.0, 1.5], random_state=100)  \n",
    "16. Kelompok 16 ->    \n",
    "    X, y = make_blobs(n_samples=400, centers=2, cluster_std=[1.0, 1.5], random_state=150) "
   ]
  },
  {
   "cell_type": "markdown",
   "metadata": {},
   "source": [
    "Petunjuk pengerjaan:\n",
    "1. Gunakan dataset tersebut untuk memprediksi nilai kelas dengan menggunakan SVM Klasifikasi. \n",
    "2. Sesuaikan model SVM Klasifikasi diatas apakan linier atau non linier dengan menentukan kernel dan tuning nilai c untuk menentukan lebar jalur SVM untuk menyesuaikan keluaran kelas  yang dihasilkan.\n",
    "3. Gunakan parameter akurasi, F1, akurasi, Presisi, Recall dan confusion matrix  untuk menentukan model terbaik."
   ]
  },
  {
   "cell_type": "markdown",
   "metadata": {},
   "source": [
    "### A. Generate  dataset sesuai ketentuan diatas."
   ]
  },
  {
   "cell_type": "markdown",
   "metadata": {},
   "source": [
    "1. Generate dataset"
   ]
  },
  {
   "cell_type": "code",
   "execution_count": 75,
   "metadata": {},
   "outputs": [],
   "source": [
    "# Generate some data\n",
    "import pandas as pd\n",
    "import numpy as np\n",
    "import matplotlib.pyplot as plt\n",
    "from sklearn.datasets import make_blobs\n",
    "from sklearn.datasets import make_moons\n",
    "\n",
    "centers = [[1, 1], [-1, -1]]\n",
    "X, y = make_blobs(n_samples=400, centers=2, cluster_std=[1.0, 1.5], random_state=100) #ganti sesuai ketentuan soal diatas."
   ]
  },
  {
   "cell_type": "markdown",
   "metadata": {},
   "source": [
    "2. ploting data X dan y dengan menggunakan style scatter dan berikan keterangan label x dan y diplotingnya."
   ]
  },
  {
   "cell_type": "code",
   "execution_count": 76,
   "metadata": {},
   "outputs": [
    {
     "data": {
      "image/png": "[encoded data removed]",
      "text/plain": [
       "<Figure size 640x480 with 1 Axes>"
      ]
     },
     "metadata": {},
     "output_type": "display_data"
    }
   ],
   "source": [
    "# 2- Visualizing the dataset.\n",
    "import matplotlib.pyplot as plt\n",
    "\n",
    "\n",
    "#code ploting\n",
    "\n",
    "# 2- Visualizing the dataset.\n",
    "from matplotlib import pyplot as plt\n",
    "\n",
    "# When the label y is 0, the class is represented with a blue square.\n",
    "# When the label y is 1, the class is represented with a green triangle.\n",
    "plt.plot(X[:, 0][y==1], X[:, 1][y==1], \"bs\")\n",
    "plt.plot(X[:, 0][y==0], X[:, 1][y==0], \"g^\")\n",
    "\n",
    "# X contains two features, x1 and x2\n",
    "plt.xlabel(r\"$x_1$\", fontsize=20)\n",
    "plt.ylabel(r\"$x_2$\", fontsize=20)\n",
    "\n",
    "# Simplifying the plot by removing the axis scales.\n",
    "plt.xticks([])\n",
    "plt.yticks([])\n",
    "\n",
    "# Displaying the plot.\n",
    "plt.show()"
   ]
  },
  {
   "cell_type": "markdown",
   "metadata": {},
   "source": [
    "### B. Training dengan model SVM Klasifikasi"
   ]
  },
  {
   "cell_type": "markdown",
   "metadata": {},
   "source": [
    "1. Model SVM Klasifikasi linier "
   ]
  },
  {
   "cell_type": "markdown",
   "metadata": {},
   "source": [
    "a. Pencarian model terbaik"
   ]
  },
  {
   "cell_type": "code",
   "execution_count": 77,
   "metadata": {},
   "outputs": [],
   "source": [
    "from sklearn.svm import SVC\n",
    "#Klasifikasi SVM  Linier\n",
    "#Import library metode machine learning.\n",
    "\n",
    "\n",
    "#split data training dan testing\n",
    "\n",
    "#Gunakan data trainig untuk fitting dan data testing untuk ukuran kinerja.\n",
    "#Training dengan menggunakan metode Klasifikasi SVM. \n",
    "#Lakukan berulang kali process fitting dengan mengganti hyperparameter kernel linier, C dan parameter lain (atau gunakan gridSearchCV)\n",
    "#kemudian mengukur kinerjanya sehingga mendapatkan model terbaik regresi.\n",
    "#ukur kinerja setiap model pada setiap trainig dengan accuracy,confusion matrix, precision, recall,  F1 score, dan ROC."
   ]
  },
  {
   "cell_type": "markdown",
   "metadata": {},
   "source": [
    "b. Analisis SVM Klasifikasi linier "
   ]
  },
  {
   "cell_type": "code",
   "execution_count": 78,
   "metadata": {},
   "outputs": [],
   "source": [
    "# Trining ulang SVM linier dengan kinerja terbaik\n",
    "#code\n",
    "# Evaluasi model terbaik  SVM linier\n",
    "#code"
   ]
  },
  {
   "cell_type": "markdown",
   "metadata": {},
   "source": [
    "Analisis kinerja model untuk medasarkan kemampuan memprediksi perkelas berdasarkan presisi, recall, F1 score dan ROC\n",
    "\n",
    "-Jawaban"
   ]
  },
  {
   "cell_type": "markdown",
   "metadata": {},
   "source": [
    "2. Model SVM Klasifikasi non linier"
   ]
  },
  {
   "cell_type": "markdown",
   "metadata": {},
   "source": [
    "a. Pencarian model terbaik"
   ]
  },
  {
   "cell_type": "code",
   "execution_count": 79,
   "metadata": {},
   "outputs": [],
   "source": [
    "from sklearn.svm import SVC\n",
    "#Klasifikasi SVM  non Linier\n",
    "#Import library metode machine learning.\n",
    "\n",
    "\n",
    "#split data training dan testing\n",
    "\n",
    "#Gunakan data trainig untuk fitting dan data testing untuk ukuran kinerja.\n",
    "#Training dengan menggunakan metode Klasifikasi SVM. \n",
    "#Lakukan berulang kali process fitting dengan mengganti hyperparameter kernel non linier (poly dan rbf), C dan parameter lain (atau gunakan gridSearchCV)\n",
    "#kemudian mengukur kinerjanya sehingga mendapatkan model terbaik regresi.\n",
    "#ukur kinerja setiap model pada setiap trainig dengan accuracy,confusion matrix, precision, recall,  F1 score, dan ROC."
   ]
  },
  {
   "cell_type": "markdown",
   "metadata": {},
   "source": [
    "b. Analisis SVM Klasifikasi non linier "
   ]
  },
  {
   "cell_type": "code",
   "execution_count": 80,
   "metadata": {},
   "outputs": [],
   "source": [
    "# Trining ulang SVM linier dengan kinerja terbaik\n",
    "#code\n",
    "# Evaluasi model terbaik  SVM non linier\n",
    "#code"
   ]
  },
  {
   "cell_type": "markdown",
   "metadata": {},
   "source": [
    "Analisis kinerja model untuk medasarkan kemampuan memprediksi perkelas berdasarkan presisi, recall, F1 score dan ROC\n",
    "\n",
    "-Jawaban"
   ]
  },
  {
   "cell_type": "markdown",
   "metadata": {},
   "source": [
    "### C. Analisis Hasil Training"
   ]
  },
  {
   "cell_type": "markdown",
   "metadata": {},
   "source": [
    "1. Tentukan **metode dan hyperparameter** mana yang yang paling bagus untuk setiap percobaan SVM Klasifikasi?"
   ]
  },
  {
   "cell_type": "markdown",
   "metadata": {},
   "source": [
    "Jawaban"
   ]
  },
  {
   "cell_type": "markdown",
   "metadata": {},
   "source": [
    "2. Analisi seluruh hasil percobaan diatas apakah data yang ditraining linier dan non linier. "
   ]
  },
  {
   "cell_type": "markdown",
   "metadata": {},
   "source": [
    "Jawaban"
   ]
  },
  {
   "cell_type": "markdown",
   "metadata": {},
   "source": [
    "## 3. Unsupervised Learning (20%)"
   ]
  },
  {
   "cell_type": "markdown",
   "metadata": {},
   "source": [
    "#### Ketentuan dataset\n",
    "Generate dataset dengan mengganti nilai noice dengan menjumlahkan nim terakhir setiap tim dan membagi dengan 100.  Contoh Tim 1 dengan angka terakhir dari NIM 110101016, 110101014, 110101015 adalah 6, 4,5  sehingga 6+4+5/100 = 0.15\n",
    "\n",
    "nilaiNoice = 0.48\n",
    "X, y = make_moons(n_samples=100, noise=nilaiNoice, random_state=42)"
   ]
  },
  {
   "cell_type": "markdown",
   "metadata": {},
   "source": [
    "Petunjuk pengerjaan:\n",
    "1. Clustering data diatas dengan menggunakan dbscan.\n",
    "2. Tentukan nilai epsilon dan minimal sample yang tepat.\n"
   ]
  },
  {
   "cell_type": "markdown",
   "metadata": {},
   "source": [
    "### A. Generate  dataset sesuai ketentuan diatas."
   ]
  },
  {
   "cell_type": "markdown",
   "metadata": {},
   "source": [
    "1. Generate dataset"
   ]
  },
  {
   "cell_type": "code",
   "execution_count": 1,
   "metadata": {},
   "outputs": [],
   "source": [
    "# Generate some data\n",
    "import pandas as pd\n",
    "import numpy as np\n",
    "import matplotlib.pyplot as plt\n",
    "from sklearn.datasets import make_moons\n",
    "\n",
    "nilaiNoice = 0.25\n",
    "X, y = make_moons(n_samples=100, noise=nilaiNoice, random_state=42)"
   ]
  },
  {
   "cell_type": "markdown",
   "metadata": {},
   "source": [
    "2. ploting data X dengan menggunakan style scatter dan berikan keterangan label x diplotingnya."
   ]
  },
  {
   "cell_type": "code",
   "execution_count": 9,
   "metadata": {},
   "outputs": [
    {
     "data": {
      "image/png": "[encoded data removed]",
      "text/plain": [
       "<Figure size 800x600 with 1 Axes>"
      ]
     },
     "metadata": {},
     "output_type": "display_data"
    }
   ],
   "source": [
    "import matplotlib.pyplot as plt\n",
    "\n",
    "plt.figure(figsize=(8, 6))\n",
    "plt.scatter(X[:, 0], X[:, 1], c=y, cmap='viridis', marker='.')\n",
    "plt.xlabel(\"$X_1$\")\n",
    "plt.show()"
   ]
  },
  {
   "cell_type": "markdown",
   "metadata": {},
   "source": [
    "1. Training data dengan metode unsupervised dengan dbscan"
   ]
  },
  {
   "cell_type": "code",
   "execution_count": 5,
   "metadata": {},
   "outputs": [],
   "source": [
    "from sklearn.cluster import DBSCAN\n",
    "\n",
    "#clustering data dengan DBSCAN\n",
    "#Import library metode machine learning.\n",
    "\n",
    "#Tentukan nilai epsilon dan minimum sample dengan melakukan training berulang kali dan ploting hasilnya.  Pilih 2 epsilong dan minimum sample"
   ]
  },
  {
   "cell_type": "code",
   "execution_count": 14,
   "metadata": {},
   "outputs": [],
   "source": [
    "from sklearn.cluster import DBSCAN\n",
    "\n",
    "def plot_dbscan(dbscan, X, size=100, show_xlabels=True, show_ylabels=True):\n",
    "    core_mask = np.zeros_like(dbscan.labels_, dtype=bool)\n",
    "    core_mask[dbscan.core_sample_indices_] = True\n",
    "    anomalies_mask = dbscan.labels_ == -1\n",
    "    non_core_mask = ~(core_mask | anomalies_mask)\n",
    "    cores = dbscan.components_\n",
    "    anomalies = X[anomalies_mask]\n",
    "    non_cores = X[non_core_mask]\n",
    "    plt.scatter(cores[:, 0], cores[:, 1], c=dbscan.labels_[core_mask], marker='o', s=size, cmap=\"Paired\")\n",
    "    plt.scatter(cores[:, 0], cores[:, 1], marker='*', s=20, c=dbscan.labels_[core_mask])\n",
    "    plt.scatter(anomalies[:, 0], anomalies[:, 1], c=\"r\", marker=\"x\", s=100)\n",
    "    plt.scatter(non_cores[:, 0], non_cores[:, 1], c=dbscan.labels_[non_core_mask], marker=\".\")\n",
    "    if show_xlabels:\n",
    "        plt.xlabel(\"$x_1$\", fontsize=14)\n",
    "    else:\n",
    "        plt.tick_params(labelbottom=False)\n",
    "    if show_ylabels:\n",
    "        plt.ylabel(\"$x_2$\", fontsize=14, rotation=0)\n",
    "    else:\n",
    "        plt.tick_params(labelleft=False)\n",
    "    plt.title(\"eps={:.2f}, min_samples={}\".format(dbscan.eps, dbscan.min_samples), fontsize=14)\n",
    "    plt.show()\n",
    "    \n",
    "    params = [{'eps': 0.2, 'min_samples': 5},{'eps': 0.3, 'min_samples': 10}]"
   ]
  },
  {
   "cell_type": "markdown",
   "metadata": {},
   "source": [
    "2. Ploting hasil clustering dengan fungsi diatas"
   ]
  },
  {
   "cell_type": "code",
   "execution_count": 20,
   "metadata": {},
   "outputs": [
    {
     "name": "stdout",
     "output_type": "stream",
     "text": [
      "DBSCAN dengan Epsilon=0.2, dan Minimum Sample=5\n"
     ]
    },
    {
     "data": {
      "image/png": "[encoded data removed]",
      "text/plain": [
       "<Figure size 800x600 with 1 Axes>"
      ]
     },
     "metadata": {},
     "output_type": "display_data"
    },
    {
     "name": "stdout",
     "output_type": "stream",
     "text": [
      "DBSCAN dengan Epsilon=0.3, dan Minimum Sample=10\n"
     ]
    },
    {
     "data": {
      "image/png": "[encoded data removed]",
      "text/plain": [
       "<Figure size 800x600 with 1 Axes>"
      ]
     },
     "metadata": {},
     "output_type": "display_data"
    }
   ],
   "source": [
    "#ploting 2 plot dengan  2 epsilon dan minimum sample yang sudah ditraining.\n",
    "#Gunakan plot_dbscan untuk ploting \n",
    "params = [{'eps': 0.2, 'min_samples': 5},{'eps': 0.3, 'min_samples': 10}]\n",
    "results = []\n",
    "for param in params:\n",
    "    dbscan = DBSCAN(eps=param['eps'], min_samples=param['min_samples'])\n",
    "    dbscan.fit(X)\n",
    "    \n",
    "    labels = dbscan.labels_\n",
    "    num_clusters = len(np.unique(labels)) - (1 if -1 in labels else 0)\n",
    "    num_anomalies = np.sum(labels == -1)\n",
    "    results.append((param['eps'], param['min_samples'], num_clusters, num_anomalies, labels))\n",
    "    \n",
    "    print(f\"DBSCAN dengan Epsilon={param['eps']}, dan Minimum Sample={param['min_samples']}\")\n",
    "    plt.figure(figsize=(8, 6))\n",
    "    plot_dbscan(dbscan, X, size=100)"
   ]
  },
  {
   "cell_type": "markdown",
   "metadata": {},
   "source": [
    "3. Tentukan model clastering mana yang paling bagus dan tentukan berapa cluster dan tampilkan data yang anomali"
   ]
  },
  {
   "cell_type": "code",
   "execution_count": 22,
   "metadata": {},
   "outputs": [
    {
     "name": "stdout",
     "output_type": "stream",
     "text": [
      "Model DBSCAN terbaik: Epsilon =0.2, dan Minimum Sampel=5\n",
      "Jumlah clusters: 5\n",
      "Jumlah anomalies: 66\n",
      "Clusters: [-1  0  1  2  3  4]\n",
      "Anomalies:\n",
      "[[ 1.67746885 -0.58182293]\n",
      " [-1.19137866  0.22565763]\n",
      " [-0.58182043  0.03413363]\n",
      " [ 1.42707636 -0.45874816]\n",
      " [ 0.91836231  0.78214112]\n",
      " [ 1.56235903 -0.75165184]\n",
      " [-0.71390452  0.96112853]\n",
      " [ 2.05626438  0.52627159]\n",
      " [ 1.37302499  0.45958785]\n",
      " [ 1.16928784 -0.27122152]\n",
      " [ 1.00701939 -0.56622326]\n",
      " [-0.14256648  0.09494725]\n",
      " [ 1.94246677 -0.21216955]\n",
      " [-1.11854511  0.30722293]\n",
      " [ 0.32714727  0.29744743]\n",
      " [-1.00460326  0.41708803]\n",
      " [ 2.05688986 -0.05578786]\n",
      " [ 0.67240353  0.5089167 ]\n",
      " [ 0.62889585 -0.69280413]\n",
      " [ 1.03312771  0.89947512]\n",
      " [-1.10223152  0.10683589]\n",
      " [ 1.93274382 -0.6384512 ]\n",
      " [-0.13801527  1.46857071]\n",
      " [ 2.41817545 -0.36024481]\n",
      " [ 0.75839901  0.35727306]\n",
      " [ 0.15113819 -0.52220444]\n",
      " [ 0.39356059  0.03015814]\n",
      " [-0.63484047  0.83606566]\n",
      " [ 0.6464985   0.99101494]\n",
      " [-0.99297513 -0.29927177]\n",
      " [ 0.62678079  0.26330835]\n",
      " [ 2.18917277  0.3977162 ]\n",
      " [ 1.71701852 -0.39800033]\n",
      " [ 0.33306318 -0.55655339]\n",
      " [ 1.23168056  0.22926384]\n",
      " [-0.55740778  0.76615522]\n",
      " [ 0.79994638  0.75704067]\n",
      " [ 1.06864028  0.3341419 ]\n",
      " [ 0.34076246 -0.76547403]\n",
      " [-0.63463613  0.73634926]\n",
      " [ 0.4088753  -0.05890392]\n",
      " [ 1.76002634  0.77623205]\n",
      " [-1.2565593   0.55536382]\n",
      " [-1.46565321 -0.02068075]\n",
      " [ 0.14527424 -0.02232913]\n",
      " [ 2.68777453  0.36432614]\n",
      " [ 1.28163176 -0.41101818]\n",
      " [-0.71957478  0.40349226]\n",
      " [ 0.28021364 -0.47677495]\n",
      " [-0.9138457   0.07672767]\n",
      " [ 1.94358115  0.31711544]\n",
      " [-0.05331221 -0.13726401]\n",
      " [ 0.45253452 -0.5664908 ]\n",
      " [ 2.10783388 -0.08515844]\n",
      " [-0.16451249 -0.23322536]\n",
      " [ 0.07132414 -0.5360379 ]\n",
      " [-0.88508519  0.27272799]\n",
      " [-0.12032825  0.59969265]\n",
      " [ 0.70212899  0.18781913]\n",
      " [-0.03311742  0.20032904]\n",
      " [ 1.36468784 -0.27709366]\n",
      " [ 0.70047003  0.77385875]\n",
      " [ 0.17178776 -0.21966485]\n",
      " [ 1.17572451 -0.58341331]\n",
      " [ 1.86703952 -0.13225999]\n",
      " [-0.09005789  0.47523024]]\n"
     ]
    }
   ],
   "source": [
    "## Keluarkan berapa cluster dan tampilkan clustering\n",
    "import numpy as np\n",
    "#np.unique(dbscan.labels_)  #contoh cari di hands on\n",
    "\n",
    "best_result = min(results, key=lambda x: (x[3], -x[2]))\n",
    "print(f\"Model DBSCAN terbaik: Epsilon ={best_result[0]}, dan Minimum Sampel={best_result[1]}\")\n",
    "print(f\"Jumlah clusters: {best_result[2]}\")\n",
    "print(f\"Jumlah anomalies: {best_result[3]}\")\n",
    "\n",
    "# Menampilkan clusters and anomali\n",
    "labels = best_result[4]\n",
    "clusters = np.unique(labels)\n",
    "anomalies = X[labels == -1]\n",
    "\n",
    "print(f\"Clusters: {clusters}\")\n",
    "print(f\"Anomalies:\\n{anomalies}\")\n"
   ]
  },
  {
   "cell_type": "markdown",
   "metadata": {},
   "source": [
    "## 4. Dimentional Reduction dan Klasifikasi  (40%)"
   ]
  },
  {
   "cell_type": "markdown",
   "metadata": {},
   "source": [
    "Ketentuan Pengerjaan:\n",
    "\n",
    "1. Gunakan dataset Fashion MNIST\n",
    "2. Bandingkan hasil 2 model klasifikasi dengan menggunakan dataset sebelum dan sesudah diriduksi dengan ketentuan dimantional reduction dibawah ini.\n",
    "3. Gunakan 2 metode klasifikasi dengan ketentuan Kelompok Ganjil: ANN dan DT, Kelompok Genap: ANN dan SVM.\n",
    "\n",
    "Ketentuan pertanyaan sesuai nomer kelompok untuk dimentional reduction:\n",
    "1. Variansi 90%, berapakah komponen fitur yang dipertahankan?\n",
    "2. Variansi 70%, berapakah komponen fitur yang dipertahankan?\n",
    "3. Variansi 89%, berapakah komponen fitur yang dipertahankan?\n",
    "4. Variansi 82%, berapakah komponen fitur yang dipertahankan?\n",
    "5. Variansi 88%, berapakah komponen fitur yang dipertahankan?\n",
    "6. Variansi 85%, berapakah komponen fitur yang dipertahankan?\n",
    "7. Variansi 60%, berapakah komponen fitur yang dipertahankan?\n",
    "8. Variansi 72%, berapakah komponen fitur yang dipertahankan?\n",
    "9. Fitur yang dipertahankan 200, berapa persen variansinya?\n",
    "10. Fitur yang dipertahankan 250, berapa persen variansinya?\n",
    "11. Fitur yang dipertahankan 220, berapa persen variansinya?\n",
    "12. Fitur yang dipertahankan 280, berapa persen variansinya?\n",
    "13. Fitur yang dipertahankan 230, berapa persen variansinya?\n",
    "14. Fitur yang dipertahankan 300, berapa persen variansinya?\n",
    "15. Fitur yang dipertahankan 100, berapa persen variansinya?\n",
    "16. Fitur yang dipertahankan 150, berapa persen variansinya?"
   ]
  },
  {
   "cell_type": "markdown",
   "metadata": {},
   "source": []
  },
  {
   "cell_type": "markdown",
   "metadata": {},
   "source": [
    "### A. Generate  dataset sesuai ketentuan diatas dan siapkan dataset."
   ]
  },
  {
   "cell_type": "markdown",
   "metadata": {},
   "source": [
    "1. Generate dataset"
   ]
  },
  {
   "cell_type": "code",
   "execution_count": 87,
   "metadata": {},
   "outputs": [],
   "source": [
    "import numpy as np\n",
    "import pandas as pd\n",
    "\n",
    "dataTraining = pd.read_csv(\"fashion-mnist_train.csv\")\n",
    "dataTest = pd.read_csv(\"fashion-mnist_test.csv\")"
   ]
  },
  {
   "cell_type": "code",
   "execution_count": 88,
   "metadata": {},
   "outputs": [
    {
     "data": {
      "text/plain": [
       "Index(['label', 'pixel1', 'pixel2', 'pixel3', 'pixel4', 'pixel5', 'pixel6',\n",
       "       'pixel7', 'pixel8', 'pixel9',\n",
       "       ...\n",
       "       'pixel775', 'pixel776', 'pixel777', 'pixel778', 'pixel779', 'pixel780',\n",
       "       'pixel781', 'pixel782', 'pixel783', 'pixel784'],\n",
       "      dtype='object', length=785)"
      ]
     },
     "execution_count": 88,
     "metadata": {},
     "output_type": "execute_result"
    }
   ],
   "source": [
    "# tampilkan header seluruh kelompok\n",
    "\n",
    "dataTraining.columns"
   ]
  },
  {
   "cell_type": "markdown",
   "metadata": {},
   "source": [
    "2. Siapkan dataset"
   ]
  },
  {
   "cell_type": "code",
   "execution_count": 89,
   "metadata": {},
   "outputs": [],
   "source": [
    "X_train = dataTraining.iloc[:,1:]\n",
    "Y_train = dataTraining.iloc[:,[0]]\n",
    "X_test = dataTest.iloc[:,1:]\n",
    "Y_test  = dataTest.iloc[:,[0]]"
   ]
  },
  {
   "cell_type": "markdown",
   "metadata": {},
   "source": [
    "### B. Training dengan menggunakan ANN dan DT untuk Kelompok ganjil atau  ANN dan SVM  untuk kelompok genap (20%)\n",
    "\n",
    "Gunakan ANN dan DT untuk Kelompok ganjil atau  ANN dan DT  untuk kelompok genap untuk metode klasifikasi.  Training data yang belum  di reduce lalu bandingkan hasil classifikasinya menggunakan pengukuran performace (accurasi,recall, presisi dan lain-lain). tunning hyperparameter berulang kali atau gunakan gridsearchCV."
   ]
  },
  {
   "cell_type": "code",
   "execution_count": 90,
   "metadata": {},
   "outputs": [],
   "source": [
    "#Jawaban"
   ]
  },
  {
   "cell_type": "markdown",
   "metadata": {},
   "source": [
    "### C. Lakukan Dimentional Reduction dengan PCA sesuai dengan ketentuan pertanyaan masing-masing kelompok(30%)\n",
    "\n",
    "fitting dengan PCA ganti hyperparameter berapa variansi yang diinginkan atau komponen yang ingin dipertahankan sesuai ketentuan diatas."
   ]
  },
  {
   "cell_type": "markdown",
   "metadata": {},
   "source": [
    "1. Training dengan PCA"
   ]
  },
  {
   "cell_type": "code",
   "execution_count": 91,
   "metadata": {},
   "outputs": [],
   "source": [
    "#fitting dengan PCA ganti hyperparameter "
   ]
  },
  {
   "cell_type": "markdown",
   "metadata": {},
   "source": [
    "2. Keluarkan berapa fitur yang dipertahankan atau berapa variance yang dipertahankan"
   ]
  },
  {
   "cell_type": "code",
   "execution_count": 93,
   "metadata": {},
   "outputs": [],
   "source": [
    "#Jawaban"
   ]
  },
  {
   "cell_type": "markdown",
   "metadata": {},
   "source": [
    "### D. Training kembali dengan menggunakan ANN dan DT untuk Kelompok ganjil atau  ANN dan SVM  untuk kelompok genap dengan dimesi feature data yang sudah direduce? (20%)\n",
    "\n",
    "Gunakan SVM dan ANN untuk metode klasifikasi.  Training data yang sudah di reduce lalu bandingkan hasil classifikasinya menggunakan pengukuran performace (accurasi,recall, presisi dan lain-lain). tunning hyperparameter berulang kali atau gunakan gridsearchCV."
   ]
  },
  {
   "cell_type": "code",
   "execution_count": 94,
   "metadata": {},
   "outputs": [],
   "source": [
    "#Jawab"
   ]
  },
  {
   "cell_type": "markdown",
   "metadata": {},
   "source": [
    "#### E. (Analisis)Perbandingan kedua model dari 2 dataset (No B dan No D) dengan pengukuran performace (accurasi,recall, presisi dan lain-lain).(30%)\n",
    "\n",
    "Bandingkan apakah ada efek dari pengurangan dimensi yang dilakukan dengan PCA."
   ]
  },
  {
   "cell_type": "code",
   "execution_count": 95,
   "metadata": {},
   "outputs": [],
   "source": [
    "#Jawab"
   ]
  },
  {
   "cell_type": "code",
   "execution_count": null,
   "metadata": {},
   "outputs": [],
   "source": []
  }
 ],
 "metadata": {
  "kernelspec": {
   "display_name": "base",
   "language": "python",
   "name": "python3"
  },
  "language_info": {
   "codemirror_mode": {
    "name": "ipython",
    "version": 3
   },
   "file_extension": ".py",
   "mimetype": "text/x-python",
   "name": "python",
   "nbconvert_exporter": "python",
   "pygments_lexer": "ipython3",
   "version": "3.12.1"
  }
 },
 "nbformat": 4,
 "nbformat_minor": 2
}
